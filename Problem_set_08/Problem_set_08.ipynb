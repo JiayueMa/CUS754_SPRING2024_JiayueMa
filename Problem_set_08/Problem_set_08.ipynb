{
  "cells": [
    {
      "cell_type": "markdown",
      "metadata": {
        "id": "SoKGHVI2gK_E"
      },
      "source": [
        "This notebook is part the of Dr. Christoforos Christoforou's course materials. You may not, nor may you knowingly allow others to reproduce or distribute lecture notes, course materials or any of their derivatives without the instructor's express written consent."
      ]
    },
    {
      "cell_type": "code",
      "execution_count": null,
      "metadata": {
        "id": "TjBbvzidgTcG"
      },
      "outputs": [],
      "source": [
        "# Setting up the environment\n",
        "import tensorflow.keras\n",
        "from tensorflow.keras.callbacks import EarlyStopping\n",
        "from tensorflow.keras.layers import Dense, Dropout\n",
        "from tensorflow.keras.datasets import mnist\n",
        "from tensorflow.keras import backend\n",
        "\n",
        "%matplotlib inline\n",
        "import matplotlib.pyplot as plt\n",
        "import numpy as np\n",
        "import pandas as pd"
      ]
    },
    {
      "cell_type": "markdown",
      "metadata": {
        "id": "xrGdpknfhmeZ"
      },
      "source": [
        "## Exercise 1: Load and preprocess the dataset.\n",
        "\n",
        "**Task 1: Load the MNIST dataset**: In the cell below, load the MNIST dataset, and standardize the dataset by applying the following pre-processing steps:\n",
        "\n",
        "- Reshape the data array to `channels_last` (i.e. `(obs,row,cols,color)`).\n",
        "- Convert the data array to `float32`.\n",
        "- Normalize data array (i.e. divide by 255)\n",
        "- Convert labels to categorical variables (i.e. one-hot encoding) using the `tensorflow.keras.utils.to_categorical(y_train)`.\n",
        "\n",
        "At the completion of this step you should have the following variables:\n",
        "Shape X_train : (60000, 28, 28, 1)\n",
        "Shape y_train : (60000, 10)\n",
        "Shape X_test : (10000, 28, 28, 1)\n",
        "Shape y_test : (10000, 10)\n",
        "\n",
        "* `X_train`,`X_test`: 4D array of shape (60000, 28, 28, 1) and (10000, 28, 28, 1) respectively, that stores the standardized MNIST data.\n",
        "* `y_train` and `y_test`: 2D array of shape (60000, 10) and (10000, 10) which uses one-hot-encoding for the labels in the MNIST dataset.\n",
        "\n",
        "\n"
      ]
    },
    {
      "cell_type": "code",
      "execution_count": null,
      "metadata": {
        "colab": {
          "base_uri": "https://localhost:8080/"
        },
        "id": "RZBcDWg6gn5r",
        "outputId": "500882bb-5235-4ec3-aaa2-d86dac2c70d4"
      },
      "outputs": [
        {
          "name": "stdout",
          "output_type": "stream",
          "text": [
            "Shape X_train : (60000, 28, 28, 1)\n",
            "Shape y_train : (60000, 10)\n",
            "Shape X_test : (10000, 28, 28, 1)\n",
            "Shape y_test : (10000, 10)\n"
          ]
        }
      ],
      "source": [
        "(X_train, y_train), (X_test, y_test) = mnist.load_data()\n",
        "\n",
        "\n",
        "X_train = X_train.reshape(X_train.shape[0], 28, 28, 1).astype('float32')\n",
        "X_test = X_test.reshape(X_test.shape[0], 28, 28, 1).astype('float32')\n",
        "\n",
        "\n",
        "X_train /= 255\n",
        "X_test /= 255\n",
        "\n",
        "y_train = to_categorical(y_train, 10)\n",
        "y_test = to_categorical(y_test, 10)\n",
        "\n",
        "\n",
        "print(\"Shape X_train :\", X_train.shape)\n",
        "print(\"Shape y_train :\", y_train.shape)\n",
        "print(\"Shape X_test :\", X_test.shape)\n",
        "print(\"Shape y_test :\", y_test.shape)"
      ]
    },
    {
      "cell_type": "markdown",
      "metadata": {
        "id": "UUjRUwoDmeFy"
      },
      "source": [
        "## Exercise 2:Building a Convolutional Neural Network using high-level Keras API\n",
        "\n",
        "In this introductory example, we will build a convolutional neural network using high-level Keras API. For that, you will need several objects provided by the API; which include the `Sequential` model which is defined under the module `tensorflow.keras.models`, and four computational layers that are defined under the `tensorflow.keras.layers module`. These layers include\n",
        "\n",
        "* the `Conv2D` layer which implement the convolutional layer;\n",
        "* the `MaxPool2D` layer which implements the max pooling operation;\n",
        "* the `Flatten` layer and the `Dense` layer\n",
        "\n",
        "These libraries have been imported at the beginning of the notebook, but to make this section self-contained, we re-import them in the cell below.\n"
      ]
    },
    {
      "cell_type": "code",
      "execution_count": null,
      "metadata": {
        "id": "XgZqFARQrLVu"
      },
      "outputs": [],
      "source": [
        "import tensorflow.keras\n",
        "from tensorflow.keras.models import Sequential\n",
        "from tensorflow.keras.layers import Dense, Flatten, Conv2D, MaxPool2D, Dropout\n",
        "import time"
      ]
    },
    {
      "cell_type": "markdown",
      "metadata": {
        "id": "5o1pmE4UrNT8"
      },
      "source": [
        "**Defining a CNN Architecture**\n",
        "\n",
        "We can define the convolutional neural network architecture using the keras API. First, we define a general `Sequential` model and then `add` to it the various computational layer.\n",
        "\n",
        "**Convolutional layer:** The first layer of the model will be a convolutional layer defined by the `Conv2D` layer in keras. The `Conv2D` layer takes several parameters, but in this example, we will focus on the two required parameters; these are the `filters` and the `kernel_size`. The `filters` argument is an integer that specifies the number of filters (i.e. kernels) to use used during the cross-correlation (we can think of this parameter as the size of the filter bank we want to use). The `kernel_size` parameters, is a tuple that specifies the kernel size to use. For example, the code `Conv2D(filters=32, kernel_size=(3,3))` specifies a convolutional layer that uses 32 filters/kernels, and each kernel is of size 3x3. Typically, when we define a convolutional layer on the input data, we must specify the `input_shape` parameter, which is a tuple which stores the dimension of the input tensor. For example, if our input image is of shape `(28,28,1)`, as it is the case for the MNIST dataset, we can specify that when we define the first `Conv2D` layer in our network, using the syntax `Conv2D(filters=32, kernel_size=(3,3), input_shape=(28,28,1))`. The input shape parameter is authomatically set of subsequent layers in our network.\n",
        "\n",
        "**MaxPooling layer:**After adding a convolutional layer, we can typically apply a `MaxPool` layer, to reduce the spatial resolution of the output tensor. The `MaxPool` layer takes as input the `pool_size=(2,2)`.\n",
        "\n",
        "After we specify the convolutional and max-pooling layer in our architecture, we can then append the necessary dense layer to perform prediction task. The following code illustrates how to define a simple CNN architecture using the above layers.\n",
        "\n",
        "```python\n",
        "model= Sequential()\n",
        "\n",
        "input_shape = X_train[0].shape\n",
        "\n",
        "# 32: number of filters, (3,3): kernel_size, input_shape (28,28,1)\n",
        "# Output:  #epoch x 26 x 26 x filters ; convolutions reduces image size by kernal-size-1\n",
        "# #params 3*3*32= 280 + 32 biases.\n",
        "model.add(Conv2D(32,(3,3),activation='relu',input_shape=input_shape))\n",
        "\n",
        "# MaxPool2D Layer ->\n",
        "# Output : epoch x 13 x 13 x #fitlers\n",
        "model.add(MaxPool2D(pool_size=(2,2)))\n",
        "\n",
        "# Dropout Layer Output epoch x 13 x 13 x #fitlers\n",
        "model.add(Dropout(0.5))\n",
        "\n",
        "# parameters : 3*3*32*64=18432 for W, plus 64 biases =  18496\n",
        "model.add(Conv2D(64,(3,3),activation='relu'))\n",
        "\n",
        "model.add(MaxPool2D(pool_size=(2,2)))\n",
        "model.add(Dropout(0.5))\n",
        "\n",
        "\n",
        "# Flatten tensor epoch x 5408; (13*13*32-filters)\n",
        "model.add(Flatten())\n",
        "\n",
        "# Dense Layer Output : epoch x 32\n",
        "model.add(Dense(32,activation='relu'))\n",
        "\n",
        "# Dropout layer epoch x 32\n",
        "model.add(Dropout(0.5))\n",
        "\n",
        "# Dense layer : expoch x 10\n",
        "model.add(Dense(10,activation='softmax'))\n",
        "\n",
        "\n",
        "```\n",
        "\n",
        "\n",
        "**Task 2.1** In the cell below, define the neural network architecture specified in the section above."
      ]
    },
    {
      "cell_type": "code",
      "execution_count": null,
      "metadata": {
        "colab": {
          "base_uri": "https://localhost:8080/"
        },
        "id": "l2Layyeyv4cy",
        "outputId": "2d3d39e2-09cb-42a2-f691-ca142a320c1e"
      },
      "outputs": [
        {
          "name": "stdout",
          "output_type": "stream",
          "text": [
            "Model: \"sequential\"\n",
            "_________________________________________________________________\n",
            " Layer (type)                Output Shape              Param #   \n",
            "=================================================================\n",
            " conv2d (Conv2D)             (None, 26, 26, 32)        320       \n",
            "                                                                 \n",
            " max_pooling2d (MaxPooling2  (None, 13, 13, 32)        0         \n",
            " D)                                                              \n",
            "                                                                 \n",
            " dropout (Dropout)           (None, 13, 13, 32)        0         \n",
            "                                                                 \n",
            " conv2d_1 (Conv2D)           (None, 11, 11, 64)        18496     \n",
            "                                                                 \n",
            " max_pooling2d_1 (MaxPoolin  (None, 5, 5, 64)          0         \n",
            " g2D)                                                            \n",
            "                                                                 \n",
            " dropout_1 (Dropout)         (None, 5, 5, 64)          0         \n",
            "                                                                 \n",
            " flatten (Flatten)           (None, 1600)              0         \n",
            "                                                                 \n",
            " dense (Dense)               (None, 32)                51232     \n",
            "                                                                 \n",
            " dropout_2 (Dropout)         (None, 32)                0         \n",
            "                                                                 \n",
            " dense_1 (Dense)             (None, 10)                330       \n",
            "                                                                 \n",
            "=================================================================\n",
            "Total params: 70378 (274.91 KB)\n",
            "Trainable params: 70378 (274.91 KB)\n",
            "Non-trainable params: 0 (0.00 Byte)\n",
            "_________________________________________________________________\n"
          ]
        }
      ],
      "source": [
        "import tensorflow.keras\n",
        "from tensorflow.keras.models import Sequential\n",
        "from tensorflow.keras.layers import Dense, Flatten, Conv2D, MaxPool2D, Dropout\n",
        "\n",
        "model = Sequential()\n",
        "input_shape = (28, 28, 1)\n",
        "\n",
        "model.add(Conv2D(32, (3, 3), activation='relu', input_shape=input_shape))\n",
        "model.add(MaxPool2D(pool_size=(2, 2)))\n",
        "model.add(Dropout(0.5))\n",
        "model.add(Conv2D(64, (3, 3), activation='relu'))\n",
        "model.add(MaxPool2D(pool_size=(2, 2)))\n",
        "model.add(Dropout(0.5))\n",
        "model.add(Flatten())\n",
        "model.add(Dense(32, activation='relu'))\n",
        "model.add(Dropout(0.5))\n",
        "model.add(Dense(10, activation='softmax'))\n",
        "\n",
        "model.summary()\n",
        "\n",
        "\n"
      ]
    },
    {
      "cell_type": "markdown",
      "metadata": {
        "id": "hZ_EZE3bwCDW"
      },
      "source": [
        "**Compile the Neural Network Architecture**\n",
        "Once we define the model, we need to compile it using the `model.compile` method of the API. We can train the compiled model  by calling the `model.fit` method of the API. Once we have a trained model, we can evaluate its performance on a test set by using `model.evaluate` method and apply the model to make prediction on new unseen data using the `model.predict` method.\n",
        "\n",
        "**Task 2.2:** Compile the Neural Network Architecture you defined in task 2.1\n",
        "\n",
        "**Task 2.3** Train the model by calling the `model.fit` method\n",
        "\n",
        "**Task 2.4:** Evaluate the model you trained in task 2.3 and report its accuracy and loss.\n",
        "\n",
        "**Task 2.5** Apply the model you trained in task 2.4 on the test set and report its performance. Moreover, identify the first three instances the model misclassifies and display their image; indicating in the title the predicted value.\n",
        "\n",
        "Use the cells below to complete these tasks\n"
      ]
    },
    {
      "cell_type": "code",
      "execution_count": null,
      "metadata": {
        "id": "U7zDxn-wxXZ_"
      },
      "outputs": [],
      "source": [
        "model.compile(optimizer='adam',\n",
        "              loss='categorical_crossentropy',\n",
        "              metrics=['accuracy'])\n"
      ]
    },
    {
      "cell_type": "code",
      "execution_count": null,
      "metadata": {
        "colab": {
          "base_uri": "https://localhost:8080/"
        },
        "id": "0FNTCJF70rkB",
        "outputId": "b7c84d7d-1e23-4f3d-bdd8-99cb34931732"
      },
      "outputs": [
        {
          "name": "stdout",
          "output_type": "stream",
          "text": [
            "Epoch 1/10\n",
            "1500/1500 [==============================] - 54s 35ms/step - loss: 0.7865 - accuracy: 0.7312 - val_loss: 0.1317 - val_accuracy: 0.9660\n",
            "Epoch 2/10\n",
            "1500/1500 [==============================] - 51s 34ms/step - loss: 0.3883 - accuracy: 0.8718 - val_loss: 0.0826 - val_accuracy: 0.9761\n",
            "Epoch 3/10\n",
            "1500/1500 [==============================] - 52s 35ms/step - loss: 0.3216 - accuracy: 0.8953 - val_loss: 0.0682 - val_accuracy: 0.9815\n",
            "Epoch 4/10\n",
            "1500/1500 [==============================] - 51s 34ms/step - loss: 0.2913 - accuracy: 0.9046 - val_loss: 0.0608 - val_accuracy: 0.9821\n",
            "Epoch 5/10\n",
            "1500/1500 [==============================] - 51s 34ms/step - loss: 0.2776 - accuracy: 0.9090 - val_loss: 0.0560 - val_accuracy: 0.9846\n",
            "Epoch 6/10\n",
            "1500/1500 [==============================] - 58s 38ms/step - loss: 0.2589 - accuracy: 0.9164 - val_loss: 0.0552 - val_accuracy: 0.9840\n",
            "Epoch 7/10\n",
            "1500/1500 [==============================] - 50s 33ms/step - loss: 0.2399 - accuracy: 0.9226 - val_loss: 0.0490 - val_accuracy: 0.9868\n",
            "Epoch 8/10\n",
            "1500/1500 [==============================] - 51s 34ms/step - loss: 0.2328 - accuracy: 0.9254 - val_loss: 0.0519 - val_accuracy: 0.9861\n",
            "Epoch 9/10\n",
            "1500/1500 [==============================] - 50s 33ms/step - loss: 0.2217 - accuracy: 0.9302 - val_loss: 0.0489 - val_accuracy: 0.9872\n",
            "Epoch 10/10\n",
            "1500/1500 [==============================] - 51s 34ms/step - loss: 0.2194 - accuracy: 0.9290 - val_loss: 0.0479 - val_accuracy: 0.9869\n"
          ]
        }
      ],
      "source": [
        "history = model.fit(X_train, y_train, epochs=10, validation_split=0.2)\n"
      ]
    },
    {
      "cell_type": "code",
      "execution_count": null,
      "metadata": {
        "colab": {
          "base_uri": "https://localhost:8080/"
        },
        "id": "cgfqOlUW0tc9",
        "outputId": "23d6d061-02f6-4b8e-f948-f1ba4bc1c841"
      },
      "outputs": [
        {
          "name": "stdout",
          "output_type": "stream",
          "text": [
            "313/313 [==============================] - 3s 9ms/step - loss: 0.0423 - accuracy: 0.9871\n",
            "Test Accuracy: 0.9871000051498413, Test Loss: 0.042278990149497986\n"
          ]
        }
      ],
      "source": [
        "test_loss, test_acc = model.evaluate(X_test, y_test)\n",
        "print(f\"Test Accuracy: {test_acc}, Test Loss: {test_loss}\")\n"
      ]
    },
    {
      "cell_type": "code",
      "execution_count": null,
      "metadata": {
        "colab": {
          "base_uri": "https://localhost:8080/",
          "height": 304
        },
        "id": "nYV3mU-V0v6w",
        "outputId": "5ba13e49-c8e2-4fb5-ca77-971c191dc67d"
      },
      "outputs": [
        {
          "name": "stdout",
          "output_type": "stream",
          "text": [
            "313/313 [==============================] - 5s 14ms/step\n"
          ]
        },
        {
          "data": {
            "image/png": "[encoded data removed]",
            "text/plain": [
              "<Figure size 1000x300 with 3 Axes>"
            ]
          },
          "metadata": {},
          "output_type": "display_data"
        }
      ],
      "source": [
        "import numpy as np\n",
        "import matplotlib.pyplot as plt\n",
        "\n",
        "\n",
        "predictions = model.predict(X_test)\n",
        "\n",
        "\n",
        "predicted_classes = np.argmax(predictions, axis=1)\n",
        "true_classes = np.argmax(y_test, axis=1)\n",
        "\n",
        "misclassified_indices = np.where(predicted_classes != true_classes)[0]\n",
        "\n",
        "plt.figure(figsize=(10, 3))\n",
        "for i, index in enumerate(misclassified_indices[:3]):\n",
        "    plt.subplot(1, 3, i+1)\n",
        "    plt.imshow(X_test[index].reshape(28, 28), cmap='gray')\n",
        "    plt.title(f\"Predicted: {predicted_classes[index]}, True: {true_classes[index]}\")\n",
        "    plt.axis('off')\n",
        "plt.show()\n"
      ]
    },
    {
      "cell_type": "markdown",
      "metadata": {
        "id": "D9dyeGY_00c8"
      },
      "source": [
        "## Exercise 3 Loading your own dataset.\n",
        "\n",
        "The code below illustrates how to download a remote dataset, and unzip it. As an example, we use the Cats and Dogs dataset provided by Microsoft and is available at this url https://www.microsoft.com/en-us/download/confirmation.aspx?id=54765  (direct link: https://download.microsoft.com/download/3/E/1/3E1C3F21-ECDB-4869-8368-6DEBA77B919F/kagglecatsanddogs_3367a.zip)\n",
        "\n",
        "You can download the dataset using the `wget` command; and unzip it using the `uzip` command. The code below illustrates how to do this\n",
        "\n"
      ]
    },
    {
      "cell_type": "code",
      "execution_count": 30,
      "metadata": {
        "colab": {
          "base_uri": "https://localhost:8080/"
        },
        "id": "HlmaFfrg2km6",
        "outputId": "d68c99fa-cebe-48ee-f233-11f7e92981c7"
      },
      "outputs": [
        {
          "name": "stdout",
          "output_type": "stream",
          "text": [
            "--2024-03-21 09:12:46--  https://download.microsoft.com/download/3/E/1/3E1C3F21-ECDB-4869-8368-6DEBA77B919F/kagglecatsanddogs_3367a.zip\n",
            "Resolving download.microsoft.com (download.microsoft.com)... 23.222.202.7, 2600:1408:c400:1580::317f, 2600:1408:c400:158f::317f\n",
            "Connecting to download.microsoft.com (download.microsoft.com)|23.222.202.7|:443... connected.\n",
            "HTTP request sent, awaiting response... 404 Not Found\n",
            "2024-03-21 09:12:47 ERROR 404: Not Found.\n",
            "\n"
          ]
        }
      ],
      "source": [
        "!wget -O /content/sample_data/CatsAndDogs.zip https://download.microsoft.com/download/3/E/1/3E1C3F21-ECDB-4869-8368-6DEBA77B919F/kagglecatsanddogs_3367a.zip"
      ]
    },
    {
      "cell_type": "code",
      "execution_count": 33,
      "metadata": {
        "colab": {
          "base_uri": "https://localhost:8080/"
        },
        "id": "dazhBQh32vFI",
        "outputId": "60e65f58-8a0c-456d-bb10-0c21760ee602"
      },
      "outputs": [
        {
          "name": "stdout",
          "output_type": "stream",
          "text": [
            "Archive:  /content/sample_data/CatsAndDogs.zip\n",
            "  End-of-central-directory signature not found.  Either this file is not\n",
            "  a zipfile, or it constitutes one disk of a multi-part archive.  In the\n",
            "  latter case the central directory and zipfile comment will be found on\n",
            "  the last disk(s) of this archive.\n",
            "unzip:  cannot find zipfile directory in one of /content/sample_data/CatsAndDogs.zip or\n",
            "        /content/sample_data/CatsAndDogs.zip.zip, and cannot find /content/sample_data/CatsAndDogs.zip.ZIP, period.\n"
          ]
        }
      ],
      "source": [
        "!unzip /content/sample_data/CatsAndDogs.zip"
      ]
    },
    {
      "cell_type": "markdown",
      "metadata": {
        "id": "tb0JCIET20Wr"
      },
      "source": [
        "To preprocess the dataset, we need the following libraries."
      ]
    },
    {
      "cell_type": "code",
      "execution_count": null,
      "metadata": {
        "id": "uIq5j_kL042W"
      },
      "outputs": [],
      "source": [
        "from skimage import io\n",
        "import os\n",
        "import numpy as np\n",
        "from sklearn.model_selection import train_test_split\n",
        "import matplotlib.pyplot as plt"
      ]
    },
    {
      "cell_type": "markdown",
      "metadata": {
        "id": "pItHfWjN25kf"
      },
      "source": [
        "A basic pre-processing step we need to apply in new image datasets is to resize them and normalize them. As part of this example, we will pre-process the image by cropping each image to a square; resize it to a requested size; and normalize each image. The function `standarize_image` below does exactly that. You will use this function to pre-process the dataset."
      ]
    },
    {
      "cell_type": "code",
      "execution_count": null,
      "metadata": {
        "id": "rH5QrR7d1Lpu"
      },
      "outputs": [],
      "source": [
        "\n",
        "def standarize_image(img_array,resize_pixels=256):\n",
        "\n",
        "  img = Image.fromarray(img_array)\n",
        "\n",
        " \n",
        "  cols, rows = img.size\n",
        "  extra = (rows-cols)/2\n",
        "\n",
        "  if (extra>0):\n",
        "\n",
        "    crop_box = (0,extra,cols,cols+extra)\n",
        "  else:\n",
        "\n",
        "    crop_box = (-extra,0,rows-extra,rows)\n",
        "\n",
        "\n",
        "  standarized_image = img.crop(crop_box).resize((resize_pixels,resize_pixels), Image.ANTIALIAS)\n",
        "\n",
        "\n",
        "  standarized_image_vector = (np.asarray(standarized_image).flatten().astype(np.float32)-128)/128\n",
        "\n",
        "  standarized_image_tensor = (np.asarray(standarized_image).astype(np.float32)-128)/128\n",
        "\n",
        "  return standarized_image_tensor, standarized_image_vector, standarized_image\n"
      ]
    },
    {
      "cell_type": "markdown",
      "metadata": {
        "id": "DsFuO7yL3fSd"
      },
      "source": [
        "**Load and pre-process the dataset**\n",
        "The code below illustrates how to load the dataset.\n",
        "```python\n",
        "# Go over the entire dataset and convert it into a single files.\n",
        "x_all = []\n",
        "y_all = []\n",
        "\n",
        "Categories = [\"Cat\",\"Dog\"]\n",
        "sample_size = 100\n",
        "\n",
        "for category in Categories:     # do dogs and cats\n",
        "    class_num = Categories.index(category)\n",
        "    path = os.path.join(data_root_folder,category)  # create path to dogs and cats\n",
        "   \n",
        "    image_list = os.listdir(path)\n",
        "    image_list = image_list[0:sample_size]\n",
        "    for img in image_list:  # iterate over each image per dogs and cats\n",
        "      img_array = io.imread(image)  \n",
        "      (img_tensor,_,img) = standarize_image(img_array,32)\n",
        "    \n",
        "      x_all.append(img_tensor)\n",
        "      y_all.append(class_num)\n",
        "\n",
        "# Convert the list to a 4D array\n",
        "x_all = np.array(x_all)\n",
        "y_all = np.array(y_all)\n",
        "```\n",
        "**Task 3.1** Reproduce the code above, but change it so that it returns a sample of 4000 images (2000 for each class) of size 64 by 64 pixels each.  "
      ]
    },
    {
      "cell_type": "code",
      "execution_count": 39,
      "metadata": {
        "colab": {
          "base_uri": "https://localhost:8080/"
        },
        "id": "J7oPavDd35KU",
        "outputId": "e5ac0dab-4cc5-4d6f-ff19-5598fad37f76"
      },
      "outputs": [
        {
          "name": "stdout",
          "output_type": "stream",
          "text": [
            "Current working directory: /content\n",
            "Skipped 5686.jpg due to unexpected shape: (64, 64)\n",
            "Error loading image 10404.jpg: attempt to seek outside sequence\n",
            "Skipped 1789.jpg due to unexpected shape: (64, 64, 4)\n",
            "Skipped 1773.jpg due to unexpected shape: (64, 64)\n",
            "Final number of images: 3996\n"
          ]
        }
      ],
      "source": [
        "import os\n",
        "from PIL import Image\n",
        "from skimage import io\n",
        "import numpy as np\n",
        "\n",
        "\n",
        "def standarize_image(img_array, resize_pixels=64):\n",
        "    img = Image.fromarray(img_array)\n",
        "    cols, rows = img.size\n",
        "    extra = (rows - cols) / 2\n",
        "\n",
        "    if extra > 0:\n",
        "        crop_box = (0, extra, cols, cols + extra)\n",
        "    else:\n",
        "        crop_box = (-extra, 0, rows - extra, rows)\n",
        "\n",
        "    standarized_image = img.crop(crop_box).resize((resize_pixels, resize_pixels), Image.Resampling.LANCZOS)\n",
        "    standarized_image_tensor = (np.asarray(standarized_image).astype(np.float32) - 128) / 128\n",
        "\n",
        "    return standarized_image_tensor\n",
        "\n",
        "\n",
        "data_root_folder = '/content/sample_data/Cat_Dog'\n",
        "Categories = [\"Cat\", \"Dog\"]\n",
        "sample_size = 2000  # Adjusted sample size per category;\n",
        "\n",
        "x_all = []\n",
        "y_all = []\n",
        "\n",
        "print(\"Current working directory:\", os.getcwd())\n",
        "\n",
        "for category in Categories:\n",
        "    class_num = Categories.index(category)\n",
        "    path = os.path.join(data_root_folder, category)\n",
        "\n",
        "    image_list = os.listdir(path)[:sample_size]\n",
        "    for img_name in image_list:\n",
        "        try:\n",
        "            img_path = os.path.join(path, img_name)\n",
        "            img_array = io.imread(img_path)\n",
        "            img_tensor = standarize_image(img_array, 64)\n",
        "\n",
        "\n",
        "            if img_tensor.shape == (64, 64, 3):\n",
        "                x_all.append(img_tensor)\n",
        "                y_all.append(class_num)\n",
        "            else:\n",
        "                print(f\"Skipped {img_name} due to unexpected shape: {img_tensor.shape}\")\n",
        "        except Exception as e:\n",
        "            print(f\"Error loading image {img_name}: {e}\")\n",
        "\n",
        "\n",
        "print(f\"Final number of images: {len(x_all)}\")\n",
        "try:\n",
        "    x_all = np.array(x_all)\n",
        "    y_all = np.array(y_all)\n",
        "except ValueError as e:\n",
        "    print(f\"Error during array conversion: {e}\")\n",
        "\n",
        "\n",
        "\n"
      ]
    },
    {
      "cell_type": "markdown",
      "metadata": {
        "id": "PVGWBSZw4acY"
      },
      "source": [
        "In the steps above, you create a standardized  dataset `x_all` that stores all observations in the dataset, and `y_all` that stores all the corresponding elements in the dataset. To train a model, we need to `slit` the dataset into a train and test set. We can do that using the `train_test_split` method of `sklearn` library as follows :\n",
        "\n",
        "```python\n",
        "(X_train, X_test, y_train, y_test) = train_test_split(x_all, y_all, test_size=0.25, random_state=42)\n",
        "```\n",
        "then to store the dataset for further processing, we can use the `save` method provided by numpy as follows:\n",
        "\n",
        "```python\n",
        "dataset = ((X_train, y_train), (X_test, y_test))\n",
        "\n",
        "# saves data in a file CatDog_preprocessed.npy, under folder sample_data.\n",
        "np.save('sample_data/CatsDog_preprocessed',dataset)\n",
        "```\n",
        "\n",
        "Subsequently, we can load the data in a format we can use in a network; using the following code:\n",
        "```python\n",
        "(X_train, y_train), (X_test, y_test) = np.load(\"sample_data/CatsDog_preprocessed.npy\",allow_pickle=True)\n",
        "\n",
        "```\n",
        "\n",
        "**Task 3.2:** Use the sample code above to a) split the `x_all` and `y_all` dataset into a `train` and `test` set. Save the resulting slit into a tuple format (similar to the format the MNIST dataset is stored)."
      ]
    },
    {
      "cell_type": "code",
      "execution_count": 48,
      "metadata": {
        "id": "e3b_Szi-6xxE"
      },
      "outputs": [],
      "source": [
        "\n",
        "\n",
        "from sklearn.model_selection import train_test_split\n",
        "import numpy as np\n",
        "\n",
        "\n",
        "(X_train, X_test, y_train, y_test) = train_test_split(x_all, y_all, test_size=0.25, random_state=42)\n",
        "\n",
        "\n",
        "dataset = ((X_train, y_train), (X_test, y_test))\n",
        "\n",
        "np.save('/content/sample_data/X_train.npy', X_train)\n",
        "np.save('/content/sample_data/X_test.npy', X_test)\n",
        "np.save('/content/sample_data/y_train.npy', y_train)\n",
        "np.save('/content/sample_data/y_test.npy', y_test)\n",
        "\n",
        "\n",
        "X_train = np.load('/content/sample_data/X_train.npy', allow_pickle=True)\n",
        "X_test = np.load('/content/sample_data/X_test.npy', allow_pickle=True)\n",
        "y_train = np.load('/content/sample_data/y_train.npy', allow_pickle=True)\n",
        "y_test = np.load('/content/sample_data/y_test.npy', allow_pickle=True)\n",
        "\n",
        "\n",
        "dataset = ((X_train, y_train), (X_test, y_test))\n",
        "\n",
        "\n",
        "\n",
        "\n",
        "\n",
        "\n"
      ]
    },
    {
      "cell_type": "markdown",
      "metadata": {
        "id": "CmL-545R64hd"
      },
      "source": [
        "# Exercise 4\n",
        "\n",
        "Build a convolutional neural network (CNN) to classify images to either `cats` or `dogs` using the Microsoft dataset. Report the network performance and apply the network on the test set. Use as many cells as necessary.\n"
      ]
    },
    {
      "cell_type": "code",
      "execution_count": null,
      "metadata": {
        "colab": {
          "base_uri": "https://localhost:8080/",
          "height": 332
        },
        "id": "3bxFJK2v7gwI",
        "outputId": "6c520c51-7966-475d-b566-3bbf41cba296"
      },
      "outputs": [],
      "source": [
        "import numpy as np\n",
        "\n",
        "(X_train, y_train), (X_test, y_test) = np.load('/content/sample_data/CatsDogs_preprocessed.npy', allow_pickle=True)\n",
        "\n",
        "from tensorflow.keras import layers, models\n",
        "\n",
        "model = models.Sequential([\n",
        "    layers.Conv2D(32, (3, 3), activation='relu', input_shape=(64, 64, 3)),\n",
        "    layers.MaxPooling2D((2, 2)),\n",
        "    layers.Conv2D(64, (3, 3), activation='relu'),\n",
        "    layers.MaxPooling2D((2, 2)),\n",
        "    layers.Conv2D(128, (3, 3), activation='relu'),\n",
        "    layers.MaxPooling2D((2, 2)),\n",
        "    layers.Flatten(),\n",
        "    layers.Dense(512, activation='relu'),\n",
        "    layers.Dense(1, activation='sigmoid')\n",
        "])\n",
        "\n",
        "model.compile(optimizer='adam',\n",
        "              loss='binary_crossentropy',\n",
        "              metrics=['accuracy'])\n",
        "history = model.fit(X_train, y_train, epochs=10, validation_split=0.2)\n",
        "\n",
        "test_loss, test_acc = model.evaluate(X_test, y_test)\n",
        "print(f\"Test accuracy: {test_acc}\")\n",
        "\n",
        "predictions = model.predict(X_test)\n",
        "\n",
        "\n",
        "\n",
        "\n",
        "\n",
        "\n",
        "\n",
        "\n",
        "\n",
        "\n",
        "\n"
      ]
    },
    {
      "cell_type": "markdown",
      "metadata": {
        "id": "80gXdanCgZ2v"
      },
      "source": [
        "Copyright Statement: Copyright © 2020 Christoforou. The materials provided by the instructor of this course, including this notebook, are for the use of the students enrolled in the course. Materials are presented in an educational context for personal use and study and should not be shared, distributed, disseminated or sold in print — or digitally — outside the course without permission. You may not, nor may you knowingly allow others to reproduce or distribute lecture notes, course materials as well as any of their derivatives without the instructor's express written consent."
      ]
    }
  ],
  "metadata": {
    "colab": {
      "provenance": []
    },
    "kernelspec": {
      "display_name": "Python 3",
      "name": "python3"
    }
  },
  "nbformat": 4,
  "nbformat_minor": 0
}
