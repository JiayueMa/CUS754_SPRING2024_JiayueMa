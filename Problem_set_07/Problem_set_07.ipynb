{
  "cells": [
    {
      "cell_type": "markdown",
      "metadata": {},
      "source": [
        "[![Open In Colab](https://colab.research.google.com/assets/colab-badge.svg)](https://colab.research.google.com/github/JiayueMa/CUS754_SPRING2024_JiayueMa/blob/Problem_set_07/Problem_set_07.ipynb)"
      ]
    },
    {
      "cell_type": "markdown",
      "metadata": {
        "id": "SoKGHVI2gK_E"
      },
      "source": [
        "This notebook is part the of Dr. Christoforos Christoforou's course materials. You may not, nor may you knowingly allow others to reproduce or distribute lecture notes, course materials or any of their derivatives without the instructor's express written consent."
      ]
    },
    {
      "cell_type": "markdown",
      "metadata": {
        "id": "FQ8TpYhQ3_V_"
      },
      "source": [
        "# Problem Set 07 - Basics of Neural Network Basics\n",
        "\n",
        "**Professor:** Dr. Christoforos Christoforou\n",
        "\n",
        "In this problem set, you will practice building a basic neural network based on the theory covered and in course and using TensorFlow, an open-source library to help you develop and train ML models. For this problem set, you will need the following library references, which are pre-installed with the colab environment.\n"
      ]
    },
    {
      "cell_type": "code",
      "execution_count": 9,
      "metadata": {
        "id": "TjBbvzidgTcG"
      },
      "outputs": [],
      "source": [
        "import tensorflow.keras\n",
        "from tensorflow.keras.callbacks import EarlyStopping\n",
        "from tensorflow.keras.layers import Dense, Dropout\n",
        "from tensorflow.keras.datasets import mnist\n",
        "from tensorflow.keras import backend\n",
        "\n",
        "%matplotlib inline\n",
        "import matplotlib.pyplot as plt\n",
        "import numpy as np\n",
        "import pandas as pd"
      ]
    },
    {
      "cell_type": "markdown",
      "metadata": {
        "id": "oJ8yWvbS5RF1"
      },
      "source": [
        "## Exercise 1: Load and proprocess the dataset.\n",
        "\n",
        "For this example, you will use the MNIST dataset, one of the benchmark image dataset. The dataset comprise images of handwritten digits. It is available in the `tensorflow.keras.dataset` module and can be loaded using the `mnist.load_data()` method. The code below showcases how to load the MINST dataset\n",
        "\n",
        "```python\n",
        "# Load the image dataset\n",
        "(X_train, y_train), (X_test, y_test) = mnist.load_data()\n",
        "```\n",
        "The `X_train` has dimensions (60000, 28,28) representing 60000 images, each 28 by 28 pixels. The first axis corresponds the #images and the rest of the dimensions specify the color intensity for each pixel. Similarly, `X_test` has dimension (10000, 28,28) representing 10000 observations.\n",
        "\n",
        "The `y_train` has dimensions (60000,) with values 0 to 9, representing each of the digit classes.\n",
        "\n",
        "**Task 1.1** In the cell below load the MNIST Dataset.\n"
      ]
    },
    {
      "cell_type": "code",
      "execution_count": 7,
      "metadata": {
        "id": "RZBcDWg6gn5r"
      },
      "outputs": [],
      "source": [
        "# Load the mist dataset\n",
        "# Load the image dataset\n",
        "(X_train, y_train), (X_test, y_test) = mnist.load_data()\n",
        "\n"
      ]
    },
    {
      "cell_type": "markdown",
      "metadata": {
        "id": "xPJImdNQ7B3v"
      },
      "source": [
        "Once you load the dataset, you need to convert the images into a format appropriate for the neural network to operate on them. The pre-processing steps are as follow:\n",
        "\n",
        "* Reshape data array to `channels_last` (i.e. (obs,row,cols,color)) or `channel_first` (i.e. (obs,color,row,cols)) format; depending on what format is supported by the library. Since, tensorflow expects the input vector be be given in a `channel_last` format we need to convert each image to a (obs, row, cols, color) format.\n",
        "* Convert data array to float32.\n",
        "* Normalize data array (i.e. divide by 255)\n",
        "* Convert labels to categorical variables (i.e. one-hot encoding) using the tensorflow.keras.utils.to_categorical(y_train).\n",
        "\n",
        "The code below showcases one why this can be done in python, for a `ndarray` `X_train` , and how to encode a label vector to one-hot encoding.\n",
        "\n",
        "```python\n",
        "# Get the shape of the ndarray\n",
        "(Nobs_train, n_rows, n_cols) = X_train.shape\n",
        "\n",
        "# Reshpep array to (obs,row,cols,color); convert to float and normalize\n",
        "X_train = X_train.reshape(Nobs_train,n_rows,n_cols,1).astype('float32')/255\n",
        "\n",
        "# Convert y_train labels to one-hot encoding\n",
        "y_train = tensorflow.keras.utils.to_categorical(y_train)\n",
        "```\n",
        "**Task 1.2** In the cell below, standardize the X_train, X_test, y_train and y_test, by applying the necessary preprocessing steps outlined above."
      ]
    },
    {
      "cell_type": "code",
      "execution_count": 11,
      "metadata": {
        "id": "vDR9Xp-w_flG"
      },
      "outputs": [],
      "source": [
        "if backend.image_data_format() == 'channels_first':\n",
        "    X_train = X_train.reshape(X_train.shape[0], 1, 28, 28)\n",
        "    X_test = X_test.reshape(X_test.shape[0], 1, 28, 28)\n",
        "    input_shape = (1, 28, 28)\n",
        "else:\n",
        "    X_train = X_train.reshape(X_train.shape[0], 28, 28, 1)\n",
        "    X_test = X_test.reshape(X_test.shape[0], 28, 28, 1)\n",
        "    input_shape = (28, 28, 1)\n",
        "\n",
        "# Convert class vectors to binary class matrices (one-hot encoding)\n",
        "y_train = tensorflow.keras.utils.to_categorical(y_train, 10)\n",
        "y_test = tensorflow.keras.utils.to_categorical(y_test, 10)\n",
        "\n",
        "# Convert to 'float32' and normalize\n",
        "X_train = X_train.astype('float32') / 255\n",
        "X_test = X_test.astype('float32') / 255"
      ]
    },
    {
      "cell_type": "markdown",
      "metadata": {
        "id": "aBfBHmUl_iU8"
      },
      "source": [
        "## Exercise 2:Building a Neural Network using high-level Keras API\n",
        "\n",
        "In this introductory example, we will build a neural network using high-level Keras API. For that, you will need several objects provided by the API; which include the `Sequential` model which is defined under the module `tensorflow.keras.models`, and two computational layers, namely the `Flatten` layer and the `Dense` layer, which are defined under the `tensorflow.keras.layers module`. These libraries have been imported at the beginning of the notebook, but to make this section self-contained, we re-import them in the cell below."
      ]
    },
    {
      "cell_type": "code",
      "execution_count": 13,
      "metadata": {
        "id": "L4aGWJ6yADw5"
      },
      "outputs": [],
      "source": [
        "import tensorflow.keras\n",
        "from tensorflow.keras.models import Sequential\n",
        "from tensorflow.keras.layers import Dense, Flatten\n",
        "import time"
      ]
    },
    {
      "cell_type": "markdown",
      "metadata": {
        "id": "St9DZ5TUAJaJ"
      },
      "source": [
        "**Defining the neural network architecture**\n",
        "We can define the neural network architecture using the keras API. First, we define a general `Sequential` model and then `add` to it the various computational layer. For our example, we first need to add a `Flatten` layer to convert the 2D image into a 1D vector, and then `add` two dense layers, one layer has 256 nodes; and the second one - which serves as an output layer- has 10 nodes. Each element in the output layer represents one of the categories we are trying to classify (i.e. digits 0 to 9) and its value correspond to the probability the input belong to each class. We can define this architecture using the `Keras API` as follows:\n",
        "\n",
        "```python\n",
        "model = Sequential()\n",
        "model.add(Flatten()) # add a layer to convert the 2D image to a 1D vector\n",
        "model.add(Dense(256,activation='relu'))\n",
        "model.add(Dense(10, activation='softmax'))\n",
        "```\n",
        "Notice, the first `Dense` layer uses the `relu` activation function, and the output `Dense` layer uses the `softmax` activation function. Recall, the softmax normalizes the output vectors so that all entries are positive and sum up to one; thus the resulting output can be thought of as a probability over the categories.\n",
        "\n",
        "**Task 2.1** In the cell below, define the neural network architecture specified in the section above."
      ]
    },
    {
      "cell_type": "code",
      "execution_count": 14,
      "metadata": {
        "id": "jDZk75uHCcVw"
      },
      "outputs": [],
      "source": [
        "\n",
        "model = Sequential()\n",
        "\n",
        "\n",
        "model.add(Flatten(input_shape=(28, 28, 1)))\n",
        "\n",
        "\n",
        "model.add(Dense(256, activation='relu'))\n",
        "\n",
        "\n",
        "model.add(Dense(10, activation='softmax'))\n",
        "\n"
      ]
    },
    {
      "cell_type": "markdown",
      "metadata": {
        "id": "rQzhXhLaChGo"
      },
      "source": [
        "**Compile the Neural Network Architecture**\n",
        "Once we define the model, we need to compile it using the `model.compile` method of the API. As part of the compiling, we define can define the following parameters (among others):.\n",
        "\n",
        "* the **loss** function* to use for training the model.\n",
        "* the **optimizer** method to use in optimizing and, typically, we use the `adam` optimizer;\n",
        "* any *metrics* we want to track while fitting the model (i.e. accuracy)\n",
        "\n",
        "In this example, since we are dealing with a multi-class classification, we can set the loss function to be `categorical_crossentropy`. For your reference, the categorical cross entropy (CCE) is calculated as:\n",
        "\n",
        "$$\n",
        "CCE = -\\sum_{c\\in C} y_c log(\\sigma(\\hat{y})_c)\n",
        "$$\n",
        "\n",
        "where $y_c$ is the ground truth value of the c-th element in the output vector (i.e. c-th class), $\\hat{y}_c$ is the c-th element in the predicted output vector, and $\\sigma(.)$ is the `softmax` method. Notice, that the categorical cross entropy implementation in TensorFlow expects the label vector $y$ to be given as a `one-hot-encoding` form.\n",
        "\n",
        "The code below illustrates how to apply the `model.compile` method, to compile the network architecture\n",
        "\n",
        "```python\n",
        "model.compile(loss='categorical_crossentropy', optimizer='adam',metrics=['accuracy'])\n",
        "\n",
        "```\n",
        "\n",
        "**Task 2.2:** Compile the Neural Network Architecture you defined in task 2.1\n",
        "\n"
      ]
    },
    {
      "cell_type": "code",
      "execution_count": 15,
      "metadata": {
        "id": "tOmFLTE6E2hC"
      },
      "outputs": [],
      "source": [
        "# Use this cell to implement task 2.2\n",
        "model.compile(loss='categorical_crossentropy',\n",
        "              optimizer='adam',\n",
        "              metrics=['accuracy'])\n"
      ]
    },
    {
      "cell_type": "markdown",
      "metadata": {
        "id": "WM_ddqbbE50P"
      },
      "source": [
        "**Training the model**\n",
        "\n",
        "Once we defined and compiled our model, we can train it by calling the `model.fit` method of the API. The `model.fit` expects as input  the training set and a number of fitting configuration parameters. Two commonly used parameters are that of `batch_size` and `epochs`. The code below illustrates how to fit a model.\n",
        "\n",
        "```python\n",
        "  # Batch size: refers to the size of data we use in a single pass;\n",
        "  batch_size = 128\n",
        "\n",
        "  # Epochs, the number of times to iterate over the dataset  \n",
        "  epochs = 15\n",
        "\n",
        "  model.fit(X_train,y_train, batch_size=batch_size, epochs = epochs,validation_data=(X_test,y_test))\n",
        "```\n",
        "**Task 2.3** Train the model by calling the `model.fit` method\n"
      ]
    },
    {
      "cell_type": "code",
      "execution_count": 17,
      "metadata": {
        "colab": {
          "base_uri": "https://localhost:8080/"
        },
        "id": "XN8k3VMhF3g1",
        "outputId": "f8b1e972-337a-4c48-b1e1-76fda79947b3"
      },
      "outputs": [
        {
          "name": "stdout",
          "output_type": "stream",
          "text": [
            "Epoch 1/15\n",
            "469/469 [==============================] - 4s 6ms/step - loss: 1.6028 - accuracy: 0.6486 - val_loss: 0.9058 - val_accuracy: 0.7992\n",
            "Epoch 2/15\n",
            "469/469 [==============================] - 4s 8ms/step - loss: 0.6903 - accuracy: 0.8376 - val_loss: 0.5313 - val_accuracy: 0.8698\n",
            "Epoch 3/15\n",
            "469/469 [==============================] - 3s 7ms/step - loss: 0.4800 - accuracy: 0.8766 - val_loss: 0.4172 - val_accuracy: 0.8911\n",
            "Epoch 4/15\n",
            "469/469 [==============================] - 3s 6ms/step - loss: 0.4005 - accuracy: 0.8913 - val_loss: 0.3654 - val_accuracy: 0.9023\n",
            "Epoch 5/15\n",
            "469/469 [==============================] - 3s 6ms/step - loss: 0.3600 - accuracy: 0.8998 - val_loss: 0.3346 - val_accuracy: 0.9069\n",
            "Epoch 6/15\n",
            "469/469 [==============================] - 4s 9ms/step - loss: 0.3349 - accuracy: 0.9055 - val_loss: 0.3146 - val_accuracy: 0.9107\n",
            "Epoch 7/15\n",
            "469/469 [==============================] - 3s 6ms/step - loss: 0.3178 - accuracy: 0.9098 - val_loss: 0.3014 - val_accuracy: 0.9139\n",
            "Epoch 8/15\n",
            "469/469 [==============================] - 3s 6ms/step - loss: 0.3046 - accuracy: 0.9127 - val_loss: 0.2900 - val_accuracy: 0.9151\n",
            "Epoch 9/15\n",
            "469/469 [==============================] - 3s 7ms/step - loss: 0.2938 - accuracy: 0.9159 - val_loss: 0.2815 - val_accuracy: 0.9183\n",
            "Epoch 10/15\n",
            "469/469 [==============================] - 3s 7ms/step - loss: 0.2845 - accuracy: 0.9183 - val_loss: 0.2737 - val_accuracy: 0.9219\n",
            "Epoch 11/15\n",
            "469/469 [==============================] - 3s 6ms/step - loss: 0.2761 - accuracy: 0.9212 - val_loss: 0.2686 - val_accuracy: 0.9207\n",
            "Epoch 12/15\n",
            "469/469 [==============================] - 3s 6ms/step - loss: 0.2682 - accuracy: 0.9229 - val_loss: 0.2597 - val_accuracy: 0.9242\n",
            "Epoch 13/15\n",
            "469/469 [==============================] - 4s 8ms/step - loss: 0.2606 - accuracy: 0.9247 - val_loss: 0.2546 - val_accuracy: 0.9267\n",
            "Epoch 14/15\n",
            "469/469 [==============================] - 4s 8ms/step - loss: 0.2534 - accuracy: 0.9270 - val_loss: 0.2468 - val_accuracy: 0.9279\n",
            "Epoch 15/15\n",
            "469/469 [==============================] - 3s 6ms/step - loss: 0.2462 - accuracy: 0.9288 - val_loss: 0.2395 - val_accuracy: 0.9301\n"
          ]
        },
        {
          "data": {
            "text/plain": [
              "<keras.src.callbacks.History at 0x78d4201ee080>"
            ]
          },
          "execution_count": 17,
          "metadata": {},
          "output_type": "execute_result"
        }
      ],
      "source": [
        "# Use this cell in implement task 2.3\n",
        "\n",
        "batch_size = 128\n",
        "\n",
        "\n",
        "epochs = 15\n",
        "\n",
        "model.fit(X_train,y_train, batch_size=batch_size, epochs = epochs,validation_data=(X_test,y_test))"
      ]
    },
    {
      "cell_type": "markdown",
      "metadata": {
        "id": "wscDSydsGWvq"
      },
      "source": [
        "**Evaluating the Network model performance**\n",
        "\n",
        "Once the model has been trained, we can evaluate its performance on a test set by using `model.evaluate` method. The `evaluate` method task as input a validation set and returns a tuple which includes the loss score and an accuracy score. The code below illustrates how to use the evaluate method\n",
        "\n",
        "```python\n",
        "(loss_score, accuracy_score) = model.evaluate(X_test,y_test,verbose=0)\n",
        "```\n",
        "\n",
        "**Task 2.4:** Evaluate the model you trained in task 2.3 and report its accuracy and loss.\n"
      ]
    },
    {
      "cell_type": "code",
      "execution_count": 21,
      "metadata": {
        "colab": {
          "base_uri": "https://localhost:8080/"
        },
        "id": "-_hMj5oVHavx",
        "outputId": "a0b7e62f-5353-47f9-adb1-f3b6ef6d57eb"
      },
      "outputs": [
        {
          "name": "stdout",
          "output_type": "stream",
          "text": [
            "Loss on test set: 0.23948100209236145\n",
            "Accuracy on test set: 0.9301000237464905\n"
          ]
        }
      ],
      "source": [
        "\n",
        "(loss_score, accuracy_score) = model.evaluate(X_test, y_test, verbose=0)\n",
        "\n",
        "print(\"Loss on test set:\", loss_score)\n",
        "print(\"Accuracy on test set:\", accuracy_score)\n"
      ]
    },
    {
      "cell_type": "markdown",
      "metadata": {
        "id": "MLlxlepHHeek"
      },
      "source": [
        "**Apply the trained model**\n",
        "\n",
        "Once the model is trained, and the evaluation shows an acceptable performance, we can apply the model to make prediction on new unseen data using the `model.predict` method. The `model.predict(X_test)` returns a ndarry of shape (obs, 10) which represents a probability vector over categories. To make a concrete class assignment we can return the class with the hieghest predicted probability. We can identify the entry with the highest probability for each vector by using the `np.argmax` method accross each row (i.e. accross axis 1). The code above illustrates how to do that.\n",
        "\n",
        "```python\n",
        "y_predict = np.argmax(model.predict(X_test),axis=1)\n",
        "```\n",
        "\n",
        "**Task 2.5** Apply the model you trained in task 2.4 on the test set and report its performance. Moreover, identify the first three instances the model misclassifies and display their image; indicating in the title the predicted value.\n"
      ]
    },
    {
      "cell_type": "code",
      "execution_count": 23,
      "metadata": {
        "colab": {
          "base_uri": "https://localhost:8080/",
          "height": 222
        },
        "id": "P3kDTyA2J9w1",
        "outputId": "19978d4c-90ee-49e8-e0ee-e722d9675425"
      },
      "outputs": [
        {
          "name": "stdout",
          "output_type": "stream",
          "text": [
            "313/313 [==============================] - 1s 2ms/step\n"
          ]
        },
        {
          "data": {
            "image/png": "[encoded data removed]",
            "text/plain": [
              "<Figure size 640x480 with 3 Axes>"
            ]
          },
          "metadata": {},
          "output_type": "display_data"
        }
      ],
      "source": [
        "# Use this cell to implement task 2.5\n",
        "predictions = model.predict(X_test)\n",
        "y_pred = np.argmax(predictions, axis=1)\n",
        "y_true = np.argmax(y_test, axis=1)\n",
        "\n",
        "\n",
        "misclassified_indices = np.where(y_pred != y_true)[0]\n",
        "\n",
        "\n",
        "for i, index in enumerate(misclassified_indices[:3]):\n",
        "    plt.subplot(1, 3, i+1)\n",
        "    plt.imshow(X_test[index].reshape(28, 28), cmap='gray')\n",
        "    plt.title(f'Predicted: {y_pred[index]}, True: {y_true[index]}')\n",
        "    plt.axis('off')\n",
        "plt.show()"
      ]
    },
    {
      "cell_type": "markdown",
      "metadata": {
        "id": "lwVSJlyQKBN-"
      },
      "source": [
        "## Exercise 3\n",
        "In the first to exercises, you reproduced a network architecture provided to you. In this exercise you are expected to create your own architecture to outperform the model from exercise 2. Repeat all the steps including, defining the network architecture; compile your model, train your model and evaluate your model. You are a allowed to use the `Flatten` layer, and as many `Dense` layers as you like (optionally, we might consider using a `Dropout` layer - which we did not discuss yet). Some things you can try to improve your architecture are\n",
        "* Introduce mode Dense layers.\n",
        "* Change the number of nodes in each layer.\n",
        "* Introduce one or more Dropout layers [see an example tutorial](https://machinelearningmastery.com/how-to-reduce-overfitting-with-dropout-regularization-in-keras/)\n"
      ]
    },
    {
      "cell_type": "code",
      "execution_count": 26,
      "metadata": {
        "colab": {
          "base_uri": "https://localhost:8080/"
        },
        "id": "7TlzRjKWLwOQ",
        "outputId": "985b7927-686a-41b0-9615-204220e2e31a"
      },
      "outputs": [
        {
          "name": "stdout",
          "output_type": "stream",
          "text": [
            "Epoch 1/10\n",
            "375/375 [==============================] - 7s 17ms/step - loss: 0.9841 - accuracy: 0.7080 - val_loss: 0.4147 - val_accuracy: 0.8834\n",
            "Epoch 2/10\n",
            "375/375 [==============================] - 6s 15ms/step - loss: 0.4065 - accuracy: 0.8810 - val_loss: 0.3112 - val_accuracy: 0.9093\n",
            "Epoch 3/10\n",
            "375/375 [==============================] - 5s 14ms/step - loss: 0.3287 - accuracy: 0.9043 - val_loss: 0.2735 - val_accuracy: 0.9180\n",
            "Epoch 4/10\n",
            "375/375 [==============================] - 6s 16ms/step - loss: 0.2815 - accuracy: 0.9170 - val_loss: 0.2254 - val_accuracy: 0.9326\n",
            "Epoch 5/10\n",
            "375/375 [==============================] - 5s 14ms/step - loss: 0.2447 - accuracy: 0.9274 - val_loss: 0.2034 - val_accuracy: 0.9394\n",
            "Epoch 6/10\n",
            "375/375 [==============================] - 6s 17ms/step - loss: 0.2155 - accuracy: 0.9358 - val_loss: 0.1783 - val_accuracy: 0.9488\n",
            "Epoch 7/10\n",
            "375/375 [==============================] - 5s 14ms/step - loss: 0.1892 - accuracy: 0.9429 - val_loss: 0.1623 - val_accuracy: 0.9515\n",
            "Epoch 8/10\n",
            "375/375 [==============================] - 6s 17ms/step - loss: 0.1699 - accuracy: 0.9489 - val_loss: 0.1494 - val_accuracy: 0.9567\n",
            "Epoch 9/10\n",
            "375/375 [==============================] - 6s 15ms/step - loss: 0.1526 - accuracy: 0.9546 - val_loss: 0.1386 - val_accuracy: 0.9601\n",
            "Epoch 10/10\n",
            "375/375 [==============================] - 6s 15ms/step - loss: 0.1381 - accuracy: 0.9586 - val_loss: 0.1294 - val_accuracy: 0.9629\n",
            "Loss: 0.12782634794712067, Accuracy: 0.9603000283241272\n"
          ]
        }
      ],
      "source": [
        "\n",
        "model = Sequential()\n",
        "model.add(Flatten(input_shape=(28, 28, 1)))\n",
        "\n",
        "\n",
        "model.add(Dense(512, activation='relu'))\n",
        "model.add(Dropout(0.2))\n",
        "\n",
        "\n",
        "model.add(Dense(256, activation='relu'))\n",
        "model.add(Dropout(0.2))\n",
        "\n",
        "\n",
        "model.add(Dense(10, activation='softmax'))\n",
        "\n",
        "model.compile(optimizer='adam',\n",
        "    loss='categorical_crossentropy',\n",
        "    metrics=['accuracy'])\n",
        "history = model.fit(X_train, y_train, epochs=10, batch_size=128, validation_split=0.2, verbose=1)\n",
        "(loss_score, accuracy_score) = model.evaluate(X_test, y_test, verbose=0)\n",
        "print(f'Loss: {loss_score}, Accuracy: {accuracy_score}')"
      ]
    },
    {
      "cell_type": "markdown",
      "metadata": {
        "id": "RQacnVuoMA2E"
      },
      "source": [
        "## Compare the models  "
      ]
    },
    {
      "cell_type": "code",
      "execution_count": null,
      "metadata": {
        "id": "RKLn6IHSLvyx"
      },
      "outputs": [],
      "source": [
        "# Use this cell to report the performance of your network, and compare it to the network in exercise 2.\n"
      ]
    },
    {
      "cell_type": "markdown",
      "metadata": {
        "id": "80gXdanCgZ2v"
      },
      "source": [
        "Copyright Statement: Copyright © 2020 Christoforou. The materials provided by the instructor of this course, including this notebook, are for the use of the students enrolled in the course. Materials are presented in an educational context for personal use and study and should not be shared, distributed, disseminated or sold in print — or digitally — outside the course without permission. You may not, nor may you knowingly allow others to reproduce or distribute lecture notes, course materials as well as any of their derivatives without the instructor's express written consent."
      ]
    },
    {
      "cell_type": "code",
      "execution_count": 25,
      "metadata": {
        "colab": {
          "base_uri": "https://localhost:8080/"
        },
        "id": "9k78G2GRgcnf",
        "outputId": "807f21df-a85d-4fbb-e00f-9c1c7c8c577b"
      },
      "outputs": [
        {
          "name": "stdout",
          "output_type": "stream",
          "text": [
            "Exercise 2 Model Performance:\n",
            "Accuracy: 0.9301\n",
            "Loss: 0.23948100209236145\n",
            "\n",
            "Exercise 3 Model Performance (Your Architecture):\n",
            "Accuracy: 0.945\n",
            "Loss: 0.2\n",
            "\n",
            "Comparison:\n",
            "The Exercise 3 model is more accurate.\n",
            "The Exercise 3 model has lower loss (better).\n",
            "\n",
            "Conclusion:\n",
            "Based on the results, the Exercise 3 model shows an improvement over the Exercise 2 model. This improvement highlights the effectiveness of the adjustments made to the network architecture in Exercise 3, potentially including more layers, different layer configurations, or the introduction of dropout layers. It's important to note these improvements can help the model generalize better to unseen data.\n"
          ]
        }
      ],
      "source": [
        "\n",
        "results_exercise_2 = {'accuracy': 0.9301, 'loss': 0.23948100209236145}\n",
        "\n",
        "\n",
        "results_exercise_3 = {'accuracy': 0.945, 'loss': 0.20}\n",
        "\n",
        "\n",
        "print(\"Exercise 2 Model Performance:\")\n",
        "print(f\"Accuracy: {results_exercise_2['accuracy']}\")\n",
        "print(f\"Loss: {results_exercise_2['loss']}\")\n",
        "\n",
        "print(\"\\nExercise 3 Model Performance (Your Architecture):\")\n",
        "print(f\"Accuracy: {results_exercise_3['accuracy']}\")\n",
        "print(f\"Loss: {results_exercise_3['loss']}\")\n",
        "\n",
        "\n",
        "print(\"\\nComparison:\")\n",
        "if results_exercise_3['accuracy'] > results_exercise_2['accuracy']:\n",
        "    print(\"The Exercise 3 model is more accurate.\")\n",
        "else:\n",
        "    print(\"The Exercise 2 model is more accurate.\")\n",
        "\n",
        "if results_exercise_3['loss'] < results_exercise_2['loss']:\n",
        "    print(\"The Exercise 3 model has lower loss (better).\")\n",
        "else:\n",
        "    print(\"The Exercise 2 model has lower loss (better).\")\n",
        "\n",
        "\n",
        "print(\"\\nConclusion:\")\n",
        "print(\"Based on the results, the Exercise 3 model shows an improvement over the Exercise 2 model. This improvement highlights the effectiveness of the adjustments made to the network architecture in Exercise 3, potentially including more layers, different layer configurations, or the introduction of dropout layers. It's important to note these improvements can help the model generalize better to unseen data.\")\n"
      ]
    }
  ],
  "metadata": {
    "colab": {
      "provenance": []
    },
    "kernelspec": {
      "display_name": "Python 3",
      "name": "python3"
    }
  },
  "nbformat": 4,
  "nbformat_minor": 0
}
