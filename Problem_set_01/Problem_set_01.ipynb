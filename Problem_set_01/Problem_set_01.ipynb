{
  "cells": [
    {
      "cell_type": "markdown",
      "metadata": {},
      "source": [
        "[![Open In Colab](https://colab.research.google.com/assets/colab-badge.svg)](https://colab.research.google.com/github/JiayueMa/CUS754_SPRING2024_JiayueMa\\Problem_set_01/Problem_set_01.ipynb)\n"
      ]
    },
    {
      "cell_type": "markdown",
      "metadata": {
        "id": "zNY4QljBl43Q"
      },
      "source": [
        "## Loading an image\n",
        "The example code below, uses PIL library to load an image. Notice that the image is first download from the URL, then we use `Image.open` method to open the image. Finally, we use the `np.asarray` method from the numpy library to conver the image into an array. Try to load execute the code below and see the image.  Then try to download other images from the web and load them.\n",
        "\n",
        "```python\n",
        "# Import the libraries needed.\n",
        "from PIL import Image, ImageFile\n",
        "from matplotlib.pyplot import imshow\n",
        "import requests\n",
        "from io import BytesIO\n",
        "import numpy as np\n",
        "\n",
        "%matplotlib inline\n",
        "\n",
        "# Spefiy the URL of the image.\n",
        "url = \"https://www.visitcyprus.com/media/k2/items/cache/c99e3db826c0f4cc2688a36ce3b60e1a_XL.jpg\"\n",
        "\n",
        "# Issue a get request to image source\n",
        "res = requests.get(url)\n",
        "\n",
        "# img is a PIL.JpegImagePlugin.JpegImageFile object, since the input image is jpg.\n",
        "img = Image.open(BytesIO(res.content))\n",
        "\n",
        "# Notice the shape of the array (797, 1175, 3), row, col, 3 colors\n",
        "img_data = np.asarray(img)\n",
        "\n",
        "print(img_data.shape)\n",
        "img\n",
        "\n",
        "```"
      ]
    },
    {
      "cell_type": "code",
      "execution_count": null,
      "metadata": {
        "colab": {
          "base_uri": "https://localhost:8080/",
          "height": 701
        },
        "id": "BJ_CcRnBG6b0",
        "outputId": "04eced51-a9b3-4707-aafb-707ad9afcc1b"
      },
      "outputs": [],
      "source": [
        "# Import the libraries needed.\n",
        "from PIL import Image, ImageFile\n",
        "from matplotlib.pyplot import imshow\n",
        "import requests\n",
        "from io import BytesIO\n",
        "import numpy as np\n",
        "\n",
        "%matplotlib inline\n",
        "\n",
        "# Spefiy the URL of the image.\n",
        "url = \"https://www.visitcyprus.com/media/k2/items/cache/c99e3db826c0f4cc2688a36ce3b60e1a_XL.jpg\"\n",
        "\n",
        "# Issue a get request to image source\n",
        "res = requests.get(url)\n",
        "\n",
        "# img is a PIL.JpegImagePlugin.JpegImageFile object, since the input image is jpg.\n",
        "img = Image.open(BytesIO(res.content))\n",
        "\n",
        "# Notice the shape of the array (797, 1175, 3), row, col, 3 colors\n",
        "img_data = np.asarray(img)\n",
        "\n",
        "print(img_data.shape)\n",
        "img"
      ]
    },
    {
      "cell_type": "code",
      "execution_count": null,
      "metadata": {
        "colab": {
          "base_uri": "https://localhost:8080/",
          "height": 514
        },
        "id": "OvII2_PVl8sK",
        "outputId": "43e8a189-6527-493e-f89a-667716a06117"
      },
      "outputs": [],
      "source": [
        "# Try to execute the code here.\n",
        "# Import the libraries needed.\n",
        "from PIL import Image, ImageFile\n",
        "from matplotlib.pyplot import imshow\n",
        "import requests\n",
        "from io import BytesIO\n",
        "import numpy as np\n",
        "\n",
        "%matplotlib inline\n",
        "\n",
        "# Spefiy the URL of the image.\n",
        "url = \"https://files.worldwildlife.org/wwfcmsprod/images/Panda_in_Tree/hero_small/99i33zyc0l_Large_WW170579.jpg\"\n",
        "\n",
        "# Issue a get request to image source\n",
        "res = requests.get(url)\n",
        "\n",
        "# img is a PIL.JpegImagePlugin.JpegImageFile object, since the input image is jpg.\n",
        "img = Image.open(BytesIO(res.content))\n",
        "\n",
        "# Notice the shape of the array (797, 1175, 3), row, col, 3 colors\n",
        "img_data = np.asarray(img)\n",
        "\n",
        "print(img_data.shape)\n",
        "img"
      ]
    },
    {
      "cell_type": "markdown",
      "metadata": {
        "id": "A5GS9pyDoPLE"
      },
      "source": [
        "### Creating images from array values.\n",
        "\n",
        "The Pillow library allows us to create an image from a 3D numpy array. The rows and columns specify pixels while the depth specify the color coding of the pixel in rgb. In the example below, we create a ellipse ellipse using the [analytical equation](https://en.wikipedia.org/wiki/Ellipse) for ellipse:\n",
        "$$\n",
        "\\frac{x^2}{a^2} + \\frac{y^2}{b^2} = 1\n",
        "$$\n",
        "\n",
        "Here is a simple example creating an image from raw values.\n",
        "\n",
        "```python\n",
        "from PIL import Image  \n",
        "import numpy as np  \n",
        "\n",
        "# specify a 3D array of values - notice the values of the array as uint8 (i.e. bytes)\n",
        "w, h = 128, 128\n",
        "# Create a new array of dimensions h by w.\n",
        "\n",
        "data = np.zeros((h,w,3), dtype=np.uint8)\n",
        "\n",
        "a , b =  w/2, h/2\n",
        "\n",
        "cw,ch = w/2, h/2  # Center of the image.\n",
        "\n",
        "for x in range(128):\n",
        "  for y in range(128):\n",
        "    ellipse_radis = ((x-cw)*(x-cw)/(a*a) + (y-ch)*(y-ch)/(b*b))\n",
        "    if ellipse_radis < 0.8:\n",
        "      data[x,y] = [0,0, max(128,ellipse_radis*255)] # setting blue color proportional to the distance.\n",
        "\n",
        "# Convert array back to image\n",
        "img = Image.fromarray(data)\n",
        "img\n",
        "\n",
        "```\n",
        "**Tasks Todo**\n",
        "* Try to reproduce the code above, in the cell provided below.\n",
        "* Try to change the values of $a$ and $b$ and see how the shape changes (i.e. try $a=w/4$).\n",
        "* Change the code so it displayes a solid red ellipse.\n",
        "* Modify the code, to create a circle of half the radius of what is given in the example. (Use separate cell for each task)\n",
        "\n",
        "\n"
      ]
    },
    {
      "cell_type": "code",
      "execution_count": null,
      "metadata": {
        "colab": {
          "base_uri": "https://localhost:8080/",
          "height": 145
        },
        "id": "OnFLtM3cmAla",
        "outputId": "6123f7a0-d37f-4ad6-cd59-803726d95532"
      },
      "outputs": [],
      "source": [
        "from PIL import Image\n",
        "import numpy as np\n",
        "\n",
        "# specify a 3D array of values - notice the values of the array as uint8 (i.e. bytes)\n",
        "w, h = 128, 128\n",
        "# Create a new array of dimensions h by w.\n",
        "\n",
        "data = np.zeros((h,w,3), dtype=np.uint8)\n",
        "\n",
        "a , b =  w/2, h/2\n",
        "\n",
        "cw,ch = w/2, h/2  # Center of the image.\n",
        "\n",
        "for x in range(128):\n",
        "  for y in range(128):\n",
        "    ellipse_radis = ((x-cw)*(x-cw)/(a*a) + (y-ch)*(y-ch)/(b*b))\n",
        "    if ellipse_radis < 0.8:\n",
        "      data[x,y] = [0,0, max(128,ellipse_radis*255)] # setting blue color proportional to the distance.\n",
        "\n",
        "# Convert array back to image\n",
        "img = Image.fromarray(data)\n",
        "img\n"
      ]
    },
    {
      "cell_type": "code",
      "execution_count": null,
      "metadata": {
        "colab": {
          "base_uri": "https://localhost:8080/",
          "height": 145
        },
        "id": "wY_iWrKsF_j3",
        "outputId": "4a957ff0-8acd-46a6-ec1c-1e87f2b12f66"
      },
      "outputs": [],
      "source": [
        "from PIL import Image\n",
        "import numpy as np\n",
        "\n",
        "# specify a 3D array of values - notice the values of the array as uint8 (i.e. bytes)\n",
        "w, h = 128, 128\n",
        "# Create a new array of dimensions h by w.\n",
        "\n",
        "data = np.zeros((h,w,3), dtype=np.uint8)\n",
        "\n",
        "a , b =  w/10, h/10\n",
        "\n",
        "cw,ch = w/2, h/2  # Center of the image.\n",
        "\n",
        "for x in range(128):\n",
        "  for y in range(128):\n",
        "    ellipse_radis = ((x-cw)*(x-cw)/(a*a) + (y-ch)*(y-ch)/(b*b))\n",
        "    if ellipse_radis < 0.8:\n",
        "      data[x,y] = [0,0, max(128,ellipse_radis*255)] # setting blue color proportional to the distance.\n",
        "\n",
        "# Convert array back to image\n",
        "img = Image.fromarray(data)\n",
        "img"
      ]
    },
    {
      "cell_type": "code",
      "execution_count": null,
      "metadata": {
        "colab": {
          "base_uri": "https://localhost:8080/",
          "height": 145
        },
        "id": "0b8FKiq_GTKI",
        "outputId": "1f715aea-2e5b-4d52-9caa-f316dfb9d67b"
      },
      "outputs": [],
      "source": [
        "from PIL import Image\n",
        "import numpy as np\n",
        "\n",
        "# specify a 3D array of values - notice the values of the array as uint8 (i.e. bytes)\n",
        "\n",
        "w, h = 128, 128\n",
        "\n",
        "# Create a new array of dimensions h by w.\n",
        "\n",
        "data = np.zeros((h,w,3), dtype=np.uint8)\n",
        "\n",
        "a , b =  w/2, h/2\n",
        "\n",
        "cw,ch = w/2, h/2  # Center of the image.\n",
        "\n",
        "for x in range(128):\n",
        "  for y in range(128):\n",
        "    ellipse_radis = ((x-cw)*(x-cw)/(a*a) + (y-ch)*(y-ch)/(b*b))\n",
        "    if ellipse_radis < 0.8:\n",
        "      data[x,y] = [255,0, max(128,ellipse_radis*255)] # setting blue color proportional to the distance.\n",
        "\n",
        "# Convert array back to image\n",
        "img = Image.fromarray(data)\n",
        "img"
      ]
    },
    {
      "cell_type": "code",
      "execution_count": null,
      "metadata": {
        "colab": {
          "base_uri": "https://localhost:8080/",
          "height": 145
        },
        "id": "PfMkYk0AGc_f",
        "outputId": "437b29c6-ee56-4470-c6de-1da80da905a2"
      },
      "outputs": [],
      "source": [
        "from PIL import Image\n",
        "import numpy as np\n",
        "\n",
        "# specify a 3D array of values - notice the values of the array as uint8 (i.e. bytes)\n",
        "w, h = 128, 128\n",
        "# Create a new array of dimensions h by w.\n",
        "\n",
        "data = np.zeros((h,w,3), dtype=np.uint8)\n",
        "\n",
        "a , b =  w/2, h/2\n",
        "\n",
        "cw,ch = w/2, h/2  # Center of the image.\n",
        "\n",
        "for x in range(128):\n",
        "  for y in range(128):\n",
        "    ellipse_radis = ((x-cw)*(x-cw)/(a*a) + (y-ch)*(y-ch)/(b*b))\n",
        "    if ellipse_radis < 0.4:\n",
        "      data[x,y] = [0,0, max(128,ellipse_radis*255)] # setting blue color proportional to the distance.\n",
        "\n",
        "# Convert array back to image\n",
        "img = Image.fromarray(data)\n",
        "img"
      ]
    },
    {
      "cell_type": "markdown",
      "metadata": {
        "id": "MHYZQ0jqELMQ"
      },
      "source": [
        "## Transforming images.\n",
        "\n",
        "Once we have an image loaded in memory, we can programmatically manipulate it's pixel values to transform the image. This pixel level transformation allow us to modify the image. For example, we can convert an image to gray-scale, enhance some colors of the image, or filter the image. The code below illustrates how to convert an image to grayscale by manipulating its pixel values.\n",
        "\n",
        "```python\n",
        "from PIL import Image\n",
        "import numpy as np\n",
        "import requests\n",
        "from io import BytesIO\n",
        "\n",
        " # Spefiy the URL of the image.\n",
        "url = \"https://www.libertyellisfoundation.org/statueoflibertymuseum/images/SOLM_Index_Main_photo.jpg\"\n",
        "url = \"https://www.visitcyprus.com/media/k2/items/cache/c99e3db826c0f4cc2688a36ce3b60e1a_XL.jpg\"\n",
        "\n",
        "res = requests.get(url)\n",
        "img = Image.open(BytesIO(res.content))\n",
        "\n",
        "# Get the data as as array\n",
        "img_data = np.asarray(img)\n",
        "\n",
        "[rows, cols, depth] = img_data.shape\n",
        "\n",
        "# Create an empty image with the same dimension\n",
        "grayscale_img_data = np.zeros((rows,cols,depth),dtype=np.uint8)\n",
        "\n",
        "# Assigne to each color channel the\n",
        "grayscale_img_data[:,:,0] = np.mean(img_data,axis=2) * 1\n",
        "grayscale_img_data[:,:,1] = np.mean(img_data,axis=2) * 1\n",
        "grayscale_img_data[:,:,2] = np.mean(img_data,axis=2) * 1\n",
        "\n",
        "# Convert the array data to an image\n",
        "grayscale_img = Image.fromarray(grayscale_img_data)\n",
        "\n",
        "grayscale_img\n",
        "```\n",
        "*Tasks Todo*\n",
        "* Try to reproduce the code above, in the cell provided below.\n",
        "* Try using different weights for each color channel (i.e. multiply each color channel with values less than one) and see how the image changes.\n",
        "* Try to weight some channels with values greater than one and see how the image changes.\n",
        "* Apply the threshold transformation on each color channel separetely and display the resulting image. The threshold rule to apply is as follows:\n",
        "  * if (pixel > threshold) set the pixel to the value 255; otherise set it to zero. Try different threshold values.\n"
      ]
    },
    {
      "cell_type": "code",
      "execution_count": null,
      "metadata": {
        "colab": {
          "base_uri": "https://localhost:8080/",
          "height": 684
        },
        "id": "AvYik8mahd5x",
        "outputId": "6f0e126e-fd8a-4e0a-8166-c4a44d7d8864"
      },
      "outputs": [],
      "source": [
        "from PIL import Image\n",
        "import numpy as np\n",
        "import requests\n",
        "from io import BytesIO\n",
        "\n",
        " # Spefiy the URL of the image.\n",
        "url = \"https://www.libertyellisfoundation.org/statueoflibertymuseum/images/SOLM_Index_Main_photo.jpg\"\n",
        "url = \"https://www.visitcyprus.com/media/k2/items/cache/c99e3db826c0f4cc2688a36ce3b60e1a_XL.jpg\"\n",
        "\n",
        "res = requests.get(url)\n",
        "img = Image.open(BytesIO(res.content))\n",
        "\n",
        "# Get the data as as array\n",
        "img_data = np.asarray(img)\n",
        "\n",
        "[rows, cols, depth] = img_data.shape\n",
        "\n",
        "# Create an empty image with the same dimension\n",
        "grayscale_img_data = np.zeros((rows,cols,depth),dtype=np.uint8)\n",
        "\n",
        "# Assigne to each color channel the\n",
        "grayscale_img_data[:,:,0] = np.mean(img_data,axis=2) * 1\n",
        "grayscale_img_data[:,:,1] = np.mean(img_data,axis=2) * 1\n",
        "grayscale_img_data[:,:,2] = np.mean(img_data,axis=2) * 1\n",
        "\n",
        "# Convert the array data to an image\n",
        "grayscale_img = Image.fromarray(grayscale_img_data)\n",
        "\n",
        "grayscale_img"
      ]
    },
    {
      "cell_type": "code",
      "execution_count": null,
      "metadata": {
        "colab": {
          "base_uri": "https://localhost:8080/",
          "height": 684
        },
        "id": "75hFePi4DFjK",
        "outputId": "f4d71f7d-3ba3-4d90-f012-583df1dd8a5b"
      },
      "outputs": [],
      "source": [
        "# Try the tasks here.\n",
        "from PIL import Image\n",
        "import numpy as np\n",
        "import requests\n",
        "from io import BytesIO\n",
        "\n",
        " # Spefiy the URL of the image.\n",
        "url = \"https://www.libertyellisfoundation.org/statueoflibertymuseum/images/SOLM_Index_Main_photo.jpg\"\n",
        "url = \"https://www.visitcyprus.com/media/k2/items/cache/c99e3db826c0f4cc2688a36ce3b60e1a_XL.jpg\"\n",
        "\n",
        "res = requests.get(url)\n",
        "img = Image.open(BytesIO(res.content))\n",
        "\n",
        "# Get the data as as array\n",
        "img_data = np.asarray(img)\n",
        "\n",
        "[rows, cols, depth] = img_data.shape\n",
        "\n",
        "# Create an empty image with the same dimension\n",
        "grayscale_img_data = np.zeros((rows,cols,depth),dtype=np.uint8)\n",
        "\n",
        "# Assigne to each color channel the\n",
        "grayscale_img_data[:,:,0] = np.mean(img_data,axis=2) * 1\n",
        "grayscale_img_data[:,:,1] = np.mean(img_data,axis=2) * 0.7\n",
        "grayscale_img_data[:,:,2] = np.mean(img_data,axis=2) * 1\n",
        "\n",
        "# Convert the array data to an image\n",
        "grayscale_img = Image.fromarray(grayscale_img_data)\n",
        "\n",
        "grayscale_img\n"
      ]
    },
    {
      "cell_type": "code",
      "execution_count": null,
      "metadata": {
        "colab": {
          "base_uri": "https://localhost:8080/",
          "height": 684
        },
        "id": "OqNXgWaQJXq2",
        "outputId": "dea42acd-dc43-43c8-d89a-fdd2d556b582"
      },
      "outputs": [],
      "source": [
        "# Try the tasks here.\n",
        "from PIL import Image\n",
        "import numpy as np\n",
        "import requests\n",
        "from io import BytesIO\n",
        "\n",
        " # Spefiy the URL of the image.\n",
        "url = \"https://www.libertyellisfoundation.org/statueoflibertymuseum/images/SOLM_Index_Main_photo.jpg\"\n",
        "url = \"https://www.visitcyprus.com/media/k2/items/cache/c99e3db826c0f4cc2688a36ce3b60e1a_XL.jpg\"\n",
        "\n",
        "res = requests.get(url)\n",
        "img = Image.open(BytesIO(res.content))\n",
        "\n",
        "# Get the data as as array\n",
        "img_data = np.asarray(img)\n",
        "\n",
        "[rows, cols, depth] = img_data.shape\n",
        "\n",
        "# Create an empty image with the same dimension\n",
        "grayscale_img_data = np.zeros((rows,cols,depth),dtype=np.uint8)\n",
        "\n",
        "# Assigne to each color channel the\n",
        "grayscale_img_data[:,:,0] = np.mean(img_data,axis=2) * 2\n",
        "grayscale_img_data[:,:,1] = np.mean(img_data,axis=2) * 3\n",
        "grayscale_img_data[:,:,2] = np.mean(img_data,axis=2) * 4\n",
        "\n",
        "# Convert the array data to an image\n",
        "grayscale_img = Image.fromarray(grayscale_img_data)\n",
        "\n",
        "grayscale_img\n"
      ]
    },
    {
      "cell_type": "code",
      "execution_count": null,
      "metadata": {
        "colab": {
          "base_uri": "https://localhost:8080/",
          "height": 684
        },
        "id": "vV3itwMFJr6Z",
        "outputId": "492e0dde-fffe-4edd-8dc2-e341cfc09b59"
      },
      "outputs": [],
      "source": [
        "# Try the tasks here.\n",
        "from PIL import Image\n",
        "import numpy as np\n",
        "import requests\n",
        "from io import BytesIO\n",
        "\n",
        " # Spefiy the URL of the image.\n",
        "url = \"https://www.libertyellisfoundation.org/statueoflibertymuseum/images/SOLM_Index_Main_photo.jpg\"\n",
        "url = \"https://www.visitcyprus.com/media/k2/items/cache/c99e3db826c0f4cc2688a36ce3b60e1a_XL.jpg\"\n",
        "\n",
        "res = requests.get(url)\n",
        "img = Image.open(BytesIO(res.content))\n",
        "\n",
        "# Get the data as as array\n",
        "img_data = np.asarray(img)\n",
        "\n",
        "[rows, cols, depth] = img_data.shape\n",
        "\n",
        "# Create an empty image with the same dimension\n",
        "grayscale_img_data = np.zeros((rows,cols,depth),dtype=np.uint8)\n",
        "\n",
        "# Assigne to each color channel the\n",
        "grayscale_img_data[:,:,0] = np.mean(img_data,axis=2) * 100\n",
        "grayscale_img_data[:,:,1] = np.mean(img_data,axis=2) * 1\n",
        "grayscale_img_data[:,:,2] = np.mean(img_data,axis=2) * 1\n",
        "\n",
        "# Convert the array data to an image\n",
        "grayscale_img = Image.fromarray(grayscale_img_data)\n",
        "\n",
        "grayscale_img"
      ]
    },
    {
      "cell_type": "code",
      "execution_count": null,
      "metadata": {
        "colab": {
          "base_uri": "https://localhost:8080/",
          "height": 684
        },
        "id": "OcwmsddKKWHr",
        "outputId": "844972d1-0b1c-4b3f-a1ea-1c763687a9e2"
      },
      "outputs": [],
      "source": [
        "# Try the tasks here.\n",
        "from PIL import Image\n",
        "import numpy as np\n",
        "import requests\n",
        "from io import BytesIO\n",
        "\n",
        " # Spefiy the URL of the image.\n",
        "url = \"https://www.libertyellisfoundation.org/statueoflibertymuseum/images/SOLM_Index_Main_photo.jpg\"\n",
        "url = \"https://www.visitcyprus.com/media/k2/items/cache/c99e3db826c0f4cc2688a36ce3b60e1a_XL.jpg\"\n",
        "\n",
        "res = requests.get(url)\n",
        "img = Image.open(BytesIO(res.content))\n",
        "\n",
        "# Get the data as as array\n",
        "img_data = np.asarray(img)\n",
        "\n",
        "[rows, cols, depth] = img_data.shape\n",
        "\n",
        "# Create an empty image with the same dimension\n",
        "grayscale_img_data = np.zeros((rows,cols,depth),dtype=np.uint8)\n",
        "\n",
        "# Assigne to each color channel the\n",
        "grayscale_img_data[:,:,0] = np.mean(img_data,axis=2) * 255\n",
        "grayscale_img_data[:,:,1] = np.mean(img_data,axis=2) * 255\n",
        "grayscale_img_data[:,:,2] = np.mean(img_data,axis=2) * 255\n",
        "\n",
        "# Convert the array data to an image\n",
        "grayscale_img = Image.fromarray(grayscale_img_data)\n",
        "\n",
        "grayscale_img"
      ]
    },
    {
      "cell_type": "markdown",
      "metadata": {
        "id": "Q2Q8V0LlFtPb"
      },
      "source": [
        "## Crop and resize images.\n",
        "\n",
        "A common transformation we need to apply to image is that of croping and resizeing the image. The code below demonstrates how to achieve this.\n",
        "\n",
        "```python\n",
        "url = \"https://www.visitcyprus.com/media/k2/items/cache/c99e3db826c0f4cc2688a36ce3b60e1a_XL.jpg\"\n",
        "\n",
        "resize_pixels = 128\n",
        "\n",
        "res = requests.get(url)\n",
        "img = Image.open(BytesIO(res.content))\n",
        "\n",
        "# Convert image into a square image.\n",
        "cols, rows = img.size\n",
        "extra = (rows-cols)/2\n",
        "\n",
        "if (extra>0):  \n",
        "  # more rows than columns, crop rows\n",
        "  crop_box = (0,extra,cols,cols+extra)\n",
        "else:\n",
        "  # more cols than rows, crop cols\n",
        "  crop_box = (-extra,0,rows-extra,rows)\n",
        "\n",
        "# Crop image into a square and resize image based on resize_\n",
        "standarized_image = img.crop(crop_box).resize((resize_pixels,resize_pixels), Image.ANTIALIAS)\n",
        "\n",
        "standarized_image\n",
        "\n",
        "```\n",
        "**Tasks ToDo**\n",
        "* Try to reproduce the code above, in the cell provided below.\n",
        "* Load your one image and apply the crop and resize operations.\n",
        "\n",
        "\n"
      ]
    },
    {
      "cell_type": "code",
      "execution_count": null,
      "metadata": {
        "colab": {
          "base_uri": "https://localhost:8080/",
          "height": 180
        },
        "id": "PQxK5pb0Fz1P",
        "outputId": "521931f2-32db-4b2b-cd5c-fb7d16a34428"
      },
      "outputs": [],
      "source": [
        "# Try the code above.\n",
        "url = \"https://www.visitcyprus.com/media/k2/items/cache/c99e3db826c0f4cc2688a36ce3b60e1a_XL.jpg\"\n",
        "\n",
        "resize_pixels = 128\n",
        "\n",
        "res = requests.get(url)\n",
        "img = Image.open(BytesIO(res.content))\n",
        "\n",
        "# Convert image into a square image.\n",
        "cols, rows = img.size\n",
        "extra = (rows-cols)/2\n",
        "\n",
        "if (extra>0):\n",
        "  # more rows than columns, crop rows\n",
        "  crop_box = (0,extra,cols,cols+extra)\n",
        "else:\n",
        "  # more cols than rows, crop cols\n",
        "  crop_box = (-extra,0,rows-extra,rows)\n",
        "\n",
        "# Crop image into a square and resize image based on resize_\n",
        "standarized_image = img.crop(crop_box).resize((resize_pixels,resize_pixels), Image.ANTIALIAS)\n",
        "\n",
        "standarized_image\n"
      ]
    },
    {
      "cell_type": "code",
      "execution_count": null,
      "metadata": {
        "colab": {
          "base_uri": "https://localhost:8080/",
          "height": 452
        },
        "id": "c4-M57H4LIIn",
        "outputId": "bc6b661a-95cc-4b46-ef48-7af59e041787"
      },
      "outputs": [],
      "source": [
        "\n",
        "\n",
        "\n",
        "# Try the code above.\n",
        "url = \"https://files.worldwildlife.org/wwfcmsprod/images/Panda_in_Tree/hero_small/99i33zyc0l_Large_WW170579.jpg\"\n",
        "\n",
        "resize_pixels = 400\n",
        "\n",
        "res = requests.get(url)\n",
        "img = Image.open(BytesIO(res.content))\n",
        "\n",
        "# Convert image into a square image.\n",
        "cols, rows = img.size\n",
        "extra = (rows-cols)/2\n",
        "\n",
        "if (extra>0):\n",
        "  # more rows than columns, crop rows\n",
        "  crop_box = (0,extra,cols,cols+extra)\n",
        "else:\n",
        "  # more cols than rows, crop cols\n",
        "  crop_box = (-extra,0,rows-extra,rows)\n",
        "\n",
        "# Crop image into a square and resize image based on resize_\n",
        "standarized_image = img.crop(crop_box).resize((resize_pixels,resize_pixels), Image.ANTIALIAS)\n",
        "\n",
        "standarized_image"
      ]
    },
    {
      "cell_type": "markdown",
      "metadata": {
        "id": "EbStjscXH9VV"
      },
      "source": [
        "## Adding Noise to the image.\n",
        "Often times we might want to add noise to an image for the purpose to introducing variability in our training dataset and to benchmark the performance of our algorithms. There are several way to introduce noise in the image.\n",
        "\n",
        "One type of noise is the `salt and pepper noise`. That is with some probability alpha we transform a pixel value to either 0 or 255; and with probability (1-alpha) we leave the pixel unchanged. This introduces black and white pixels in the image that show as noise.\n",
        "\n",
        "**Task Todo**\n",
        "- Write a function that taks as an input an image and a noise level (i.e. alpha) and generates a noise version of the input image, using the `salt and pepper` noise.\n",
        "- Call you method to showcase that it works.\n"
      ]
    },
    {
      "cell_type": "code",
      "execution_count": null,
      "metadata": {
        "id": "7oQepKoBM8xA"
      },
      "outputs": [],
      "source": [
        "def myNoise(image, alpha):\n",
        "\n",
        "    image_np = np.array(image).copy()\n",
        "\n",
        "\n",
        "    rows, cols, _ = image_np.shape\n",
        "    for i in range(rows):\n",
        "        for j in range(cols):\n",
        "            rnd = np.random.random()\n",
        "            if rnd < alpha:\n",
        "                image_np[i][j] = [0, 0, 0] if np.random.random() < 0.5 else [255, 255, 255]\n",
        "                # make random noize\n",
        "    noisy_image = Image.fromarray(image_np)\n",
        "    return noisy_image\n"
      ]
    },
    {
      "cell_type": "code",
      "execution_count": null,
      "metadata": {
        "colab": {
          "base_uri": "https://localhost:8080/",
          "height": 514
        },
        "id": "X4CMOrY_Ghkp",
        "outputId": "2667581b-3223-40b0-f7d7-48398c5a423e"
      },
      "outputs": [],
      "source": [
        "\n",
        "\n",
        "from PIL import Image, ImageFile\n",
        "from matplotlib.pyplot import imshow\n",
        "import requests\n",
        "from io import BytesIO\n",
        "import numpy as np\n",
        "\n",
        "%matplotlib inline\n",
        "\n",
        "# Spefiy the URL of the image.\n",
        "url = \"https://files.worldwildlife.org/wwfcmsprod/images/Panda_in_Tree/hero_small/99i33zyc0l_Large_WW170579.jpg\"\n",
        "\n",
        "# Issue a get request to image source\n",
        "res = requests.get(url)\n",
        "\n",
        "# img is a PIL.JpegImagePlugin.JpegImageFile object, since the input image is jpg.\n",
        "img = Image.open(BytesIO(res.content))\n",
        "\n",
        "# Notice the shape of the array (797, 1175, 3), row, col, 3 colors\n",
        "img_data = np.asarray(img)\n",
        "\n",
        "print(img_data.shape)\n",
        "\n",
        "img\n",
        "\n",
        "\n",
        "alpha = 0.05\n",
        "\n",
        "\n",
        "noisy_img = myNoise(img, alpha)\n",
        "\n",
        "noisy_img\n",
        "\n",
        "\n",
        "\n"
      ]
    },
    {
      "cell_type": "markdown",
      "metadata": {
        "id": "R0Lwr-TkJfIJ"
      },
      "source": [
        "## Puting it all together\n",
        "Try to use the methods we cover above to peform the following tasks\n",
        "\n",
        "* Load three image of separate size.\n",
        "* Resize both images so they have same width and height.\n",
        "* Create a composite image that includes the red channel of the first image, the green channel of the second image, and the blue channel of the third image.\n",
        "* Add a circle overlay in the image; generate the circle programmatically.\n",
        "* Display the resulting image.\n",
        "* Create three noisy level of the image using `salt and pepper` noise. Use level noise of 6%, 12%, 24% and 50%. Display the images.\n",
        "\n",
        "\n"
      ]
    },
    {
      "cell_type": "code",
      "execution_count": null,
      "metadata": {
        "id": "pxu-rOJCoyp7"
      },
      "outputs": [],
      "source": []
    },
    {
      "cell_type": "code",
      "execution_count": null,
      "metadata": {
        "id": "y5_jDLrnhXam"
      },
      "outputs": [],
      "source": [
        "def change_channel(picture,color):\n",
        "\n",
        "  # Get the data as as array\n",
        "  img_data = np.asarray(picture)\n",
        "\n",
        "  [rows, cols, depth] = img_data.shape\n",
        "\n",
        "  # Create an empty image with the same dimension\n",
        "  grayscale_img_data = np.zeros((rows,cols,depth),dtype=np.uint8)\n",
        "\n",
        "  # Assigne to each color channel the\n",
        "  if color ==1 :\n",
        "    grayscale_img_data[:,:,0] = np.mean(img_data,axis=2) * 1\n",
        "    grayscale_img_data[:,:,1] = np.mean(img_data,axis=2) * 0.3\n",
        "    grayscale_img_data[:,:,2] = np.mean(img_data,axis=2) * 0.3\n",
        "  if color ==2 :\n",
        "    grayscale_img_data[:,:,0] = np.mean(img_data,axis=2) * 0.3\n",
        "    grayscale_img_data[:,:,1] = np.mean(img_data,axis=2) * 0.3\n",
        "    grayscale_img_data[:,:,2] = np.mean(img_data,axis=2) * 1\n",
        "  if color ==3 :\n",
        "    grayscale_img_data[:,:,0] = np.mean(img_data,axis=2) * 0.3\n",
        "    grayscale_img_data[:,:,1] = np.mean(img_data,axis=2) * 1\n",
        "    grayscale_img_data[:,:,2] = np.mean(img_data,axis=2) * 0.3\n",
        "\n",
        "  # Convert the array data to an image\n",
        "  after_img = Image.fromarray(grayscale_img_data)\n",
        "  return after_img\n"
      ]
    },
    {
      "cell_type": "code",
      "execution_count": null,
      "metadata": {
        "id": "F8B7DUJrWToO"
      },
      "outputs": [],
      "source": [
        "def resize(url):\n",
        "  resize_pixels = 800\n",
        "\n",
        "  res = requests.get(url)\n",
        "  img = Image.open(BytesIO(res.content))\n",
        "\n",
        "\n",
        "  cols, rows = img.size\n",
        "  extra = (rows-cols)/2\n",
        "\n",
        "  if (extra>0):\n",
        "\n",
        "   crop_box = (0,extra,cols,cols+extra)\n",
        "  else:\n",
        "\n",
        "    crop_box = (-extra,0,rows-extra,rows)\n",
        "\n",
        "\n",
        "  standarized_image = img.crop(crop_box).resize((resize_pixels,resize_pixels), Image.ANTIALIAS)\n",
        "\n",
        "  return standarized_image"
      ]
    },
    {
      "cell_type": "code",
      "execution_count": null,
      "metadata": {
        "colab": {
          "base_uri": "https://localhost:8080/",
          "height": 442
        },
        "id": "VkaEAhozpSea",
        "outputId": "316db2e4-57f1-4678-9722-9f7b0dbe3e98"
      },
      "outputs": [],
      "source": [
        "# Try to execute the code here.\n",
        "# Import the libraries needed.\n",
        "from PIL import Image, ImageFile\n",
        "from matplotlib.pyplot import imshow\n",
        "import requests\n",
        "from io import BytesIO\n",
        "import numpy as np\n",
        "import matplotlib.pyplot as plt\n",
        "\n",
        "%matplotlib inline\n",
        "\n",
        "# Spefiy the URL of the image.\n",
        "u1 = \"https://files.worldwildlife.org/wwfcmsprod/images/Panda_in_Tree/hero_small/99i33zyc0l_Large_WW170579.jpg\"\n",
        "u2 = \"https://c02.purpledshub.com/uploads/sites/62/2023/01/Giant-panda-c2c51b8.jpg?w=940&webp=1\"\n",
        "u3 = \"https://images.ctfassets.net/rt5zmd3ipxai/25pHfG94sGlRALOqbRvSxl/9f591d8263607fdf923b962cbfcde2a9/NVA-panda.jpg?fit=fill&fm=webp&h=502&w=964&q=72\"\n",
        "pic1 = resize(u1)\n",
        "pic2 = resize(u2)\n",
        "pic3 = resize(u3)\n",
        "plt.figure(figsize=(15, 5))\n",
        "\n",
        "\n",
        "plt.subplot(1, 3, 1)\n",
        "plt.imshow(pic1)\n",
        "\n",
        "plt.subplot(1, 3, 2)\n",
        "plt.imshow(pic2)\n",
        "\n",
        "\n",
        "plt.subplot(1, 3, 3)\n",
        "plt.imshow(pic3)\n",
        "\n",
        "\n",
        "plt.show()"
      ]
    },
    {
      "cell_type": "code",
      "execution_count": null,
      "metadata": {
        "colab": {
          "base_uri": "https://localhost:8080/",
          "height": 407
        },
        "id": "pmF7gkUaLKKM",
        "outputId": "5618d62e-3e41-4f71-96a3-cdbab7397fda"
      },
      "outputs": [],
      "source": [
        "pic1 = change_channel(pic1,1)\n",
        "pic2 = change_channel(pic2,2)\n",
        "pic3 = change_channel(pic3,3)\n",
        "\n",
        "plt.figure(figsize=(15, 5))\n",
        "\n",
        "\n",
        "plt.subplot(1, 3, 1)\n",
        "plt.imshow(pic1)\n",
        "\n",
        "plt.subplot(1, 3, 2)\n",
        "plt.imshow(pic2)\n",
        "\n",
        "\n",
        "plt.subplot(1, 3, 3)\n",
        "plt.imshow(pic3)\n",
        "\n",
        "\n",
        "plt.show()"
      ]
    },
    {
      "cell_type": "code",
      "execution_count": null,
      "metadata": {
        "colab": {
          "base_uri": "https://localhost:8080/",
          "height": 616
        },
        "id": "KxP9zJowYYol",
        "outputId": "ad732517-5608-4e97-8a17-3f1708ecbac9"
      },
      "outputs": [],
      "source": [
        "import numpy as np\n",
        "from PIL import Image\n",
        "\n",
        "canvas = np.zeros((800, 2400, 3), dtype=np.uint8)\n",
        "\n",
        "panda1 = np.array(pic1)\n",
        "panda2 = np.array(pic2)\n",
        "panda3 = np.array(pic3)\n",
        "\n",
        "\n",
        "canvas[:, 0:800] = panda1\n",
        "canvas[:, 800:1600] = panda2\n",
        "canvas[:, 1600:2400] = panda3\n",
        "\n",
        "\n",
        "\n",
        "final_image = Image.fromarray(canvas)\n",
        "\n",
        "final_image\n"
      ]
    },
    {
      "cell_type": "code",
      "execution_count": null,
      "metadata": {
        "id": "4_IeLG33sfo8"
      },
      "outputs": [],
      "source": [
        "from posixpath import join\n",
        "import numpy as np\n",
        "import cv2\n",
        "def get_cycle(image):\n",
        "\n",
        "    image_np = np.array(image).copy()\n",
        "    cw = 1200\n",
        "    ch = 400  # Center of the image.\n",
        "    for i in range(800):\n",
        "        for j in range(2400):\n",
        "          ellipse_radis = (i-ch)*(i-ch) + (j-cw)*(j-cw)\n",
        "          if ellipse_radis < 20000:\n",
        "            image_np[i][j] = [255,255,255]\n",
        "\n",
        "    my_image = Image.fromarray(image_np)\n",
        "    return my_image\n",
        "\n",
        "\n",
        "\n",
        "\n",
        "\n"
      ]
    },
    {
      "cell_type": "code",
      "execution_count": null,
      "metadata": {
        "colab": {
          "base_uri": "https://localhost:8080/",
          "height": 616
        },
        "id": "wnADszmMvaBa",
        "outputId": "8eaee12e-5df7-4cdc-8b89-ffe15cb8bb89"
      },
      "outputs": [],
      "source": [
        "final_image = get_cycle(final_image)\n",
        "\n",
        "final_image"
      ]
    },
    {
      "cell_type": "code",
      "execution_count": null,
      "metadata": {
        "id": "peJ6X_ga6QJm"
      },
      "outputs": [],
      "source": [
        "def my_super_noise(image, alpha, level):\n",
        "\n",
        "    image_np = np.array(image).copy()\n",
        "\n",
        "\n",
        "    rows, cols, _ = image_np.shape\n",
        "    for i in range(rows):\n",
        "        for j in range(cols):\n",
        "            rnd = np.random.random()\n",
        "            if rnd < alpha :\n",
        "                image_np[i][j] = [level*100+50, level*100+50, level*100+50] if np.random.random() < 0.5 else [255, 255, 255]\n",
        "                # make random noize\n",
        "    noisy_image = Image.fromarray(image_np)\n",
        "    return noisy_image"
      ]
    },
    {
      "cell_type": "code",
      "execution_count": null,
      "metadata": {
        "colab": {
          "base_uri": "https://localhost:8080/",
          "height": 616
        },
        "id": "BFaQem307WEI",
        "outputId": "fc555d93-a26f-4103-cc26-a3df6fb3b55c"
      },
      "outputs": [],
      "source": [
        "final_image = my_super_noise(final_image,0.05,1)\n",
        "final_image"
      ]
    },
    {
      "cell_type": "code",
      "execution_count": null,
      "metadata": {
        "colab": {
          "base_uri": "https://localhost:8080/",
          "height": 616
        },
        "id": "pk3cct8F7oCn",
        "outputId": "7da430e5-a69d-4fbd-ff93-7e21ffbe8fa5"
      },
      "outputs": [],
      "source": [
        "final_image = my_super_noise(final_image,0.1,2)\n",
        "final_image"
      ]
    },
    {
      "cell_type": "code",
      "execution_count": null,
      "metadata": {
        "colab": {
          "base_uri": "https://localhost:8080/",
          "height": 616
        },
        "id": "Pz7kHnaU7zBS",
        "outputId": "704ad791-6cfb-4e6b-e2fa-bd4b4749d3d8"
      },
      "outputs": [],
      "source": [
        "final_image = my_super_noise(final_image,0.2,3)\n",
        "final_image"
      ]
    }
  ],
  "metadata": {
    "colab": {
      "provenance": [],
      "toc_visible": true
    },
    "kernelspec": {
      "display_name": "Python 3",
      "name": "python3"
    },
    "language_info": {
      "codemirror_mode": {
        "name": "ipython",
        "version": 3
      },
      "file_extension": ".py",
      "mimetype": "text/x-python",
      "name": "python",
      "nbconvert_exporter": "python",
      "pygments_lexer": "ipython3",
      "version": "3.11.7"
    }
  },
  "nbformat": 4,
  "nbformat_minor": 0
}
