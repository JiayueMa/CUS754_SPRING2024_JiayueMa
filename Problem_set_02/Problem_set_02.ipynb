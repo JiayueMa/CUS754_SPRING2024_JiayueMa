{
  "cells": [
    {
      "cell_type": "markdown",
      "metadata": {},
      "source": [
        "[![Open In Colab](https://colab.research.google.com/assets/colab-badge.svg)](https://colab.research.google.com/github/JiayueMa/CUS754_SPRING2024_JiayueMa/blob/Problem_set_02/Problem_set_02.ipynb)"
      ]
    },
    {
      "cell_type": "markdown",
      "metadata": {
        "id": "_Jk-XWL_ICsc"
      },
      "source": [
        "This notebook is part the of Dr. Christoforos Christoforou's course materials. You may not, nor may you knowingly allow others to reproduce or distribute lecture notes, course materials or any of their derivatives without the instructor's express written consent."
      ]
    },
    {
      "cell_type": "markdown",
      "metadata": {
        "id": "mGWGpILX6Caz"
      },
      "source": [
        "# Problem Set 02 - Cross Correlation\n",
        "**Professor:** Dr. Christoforos Christoforou\n",
        "\n",
        "For this problem set you will need the following libraries, which are pre-installed with the colab environment:\n",
        "\n",
        "* [Numpy](https://www.numpy.org/) is an array manipulation library, used for linear algebra, Fourier transform, and random number capabilities.\n",
        "* [Pandas](https://pandas.pydata.org/) is a library for data manipulation and data analysis.\n",
        "* [CV2](https://opencv-python-tutroals.readthedocs.io/en/latest/py_tutorials/py_gui/py_image_display/py_image_display.html) is a library for computer vision tasks.\n",
        "* [Skimage](https://scikit-image.org/) is a library which supports image processing applications on python.\n",
        "* [Matplotlib](https://matplotlib.org/) is a library which generates figures and provides graphical user interface toolkit.\n",
        "\n",
        "You can load them using the following import statement:"
      ]
    },
    {
      "cell_type": "code",
      "execution_count": 1,
      "metadata": {
        "id": "m5xcgMf35rfn"
      },
      "outputs": [
        {
          "ename": "ModuleNotFoundError",
          "evalue": "No module named 'cv2'",
          "output_type": "error",
          "traceback": [
            "\u001b[1;31m---------------------------------------------------------------------------\u001b[0m",
            "\u001b[1;31mModuleNotFoundError\u001b[0m                       Traceback (most recent call last)",
            "Cell \u001b[1;32mIn[1], line 3\u001b[0m\n\u001b[0;32m      1\u001b[0m \u001b[38;5;28;01mimport\u001b[39;00m \u001b[38;5;21;01mnumpy\u001b[39;00m \u001b[38;5;28;01mas\u001b[39;00m \u001b[38;5;21;01mnp\u001b[39;00m\n\u001b[0;32m      2\u001b[0m \u001b[38;5;28;01mimport\u001b[39;00m \u001b[38;5;21;01mpandas\u001b[39;00m \u001b[38;5;28;01mas\u001b[39;00m \u001b[38;5;21;01mpd\u001b[39;00m\n\u001b[1;32m----> 3\u001b[0m \u001b[38;5;28;01mimport\u001b[39;00m \u001b[38;5;21;01mcv2\u001b[39;00m \u001b[38;5;28;01mas\u001b[39;00m \u001b[38;5;21;01mcv\u001b[39;00m\n\u001b[0;32m      4\u001b[0m \u001b[38;5;28;01mfrom\u001b[39;00m \u001b[38;5;21;01mgoogle\u001b[39;00m\u001b[38;5;21;01m.\u001b[39;00m\u001b[38;5;21;01mcolab\u001b[39;00m\u001b[38;5;21;01m.\u001b[39;00m\u001b[38;5;21;01mpatches\u001b[39;00m \u001b[38;5;28;01mimport\u001b[39;00m cv2_imshow \u001b[38;5;66;03m# for image display\u001b[39;00m\n\u001b[0;32m      5\u001b[0m \u001b[38;5;28;01mfrom\u001b[39;00m \u001b[38;5;21;01mskimage\u001b[39;00m \u001b[38;5;28;01mimport\u001b[39;00m io\n",
            "\u001b[1;31mModuleNotFoundError\u001b[0m: No module named 'cv2'"
          ]
        }
      ],
      "source": [
        "import numpy as np\n",
        "import pandas as pd\n",
        "import cv2 as cv\n",
        "from google.colab.patches import cv2_imshow # for image display\n",
        "from skimage import io\n",
        "from PIL import Image\n",
        "import matplotlib.pylab as plt"
      ]
    },
    {
      "cell_type": "markdown",
      "metadata": {
        "id": "mSJ_VpGu6XWz"
      },
      "source": [
        "## Image Sources\n",
        "For this problem set you are asked to load and pre-process images. You can choose to use your own images, or download images from the following sources:\n",
        "\n",
        "**Image source examples**\n",
        "\n",
        "- [Place Kitten API](https://placekitten.com/) - use the base Place Kitten URL followed by a width and height separated by backslashes ''/''. For example, use the URL `https://placekitten.com/500/300` to fetch a cat image with a width of 500px and height of 300px.\n",
        "\n",
        "- [Lorem Picsum Photos API ](https://picsum.photos/images) - generates random images from the web.\n",
        "\n",
        "- [NC State University Libraries Special Collections](https://d.lib.ncsu.edu/collections/catalog) - browse the site to find an image thumbnail. Right-click on the thumbnail and select \"Copy Image Address\". The address will look like this: `https://iiif.lib.ncsu.edu/iiif/0051230/square/300,/0/default.jpg`. Replace the word \"square\" with the word \"full\" and replace \"300\" with \"800\" to access the full image at a width of 800px.\n",
        "\n",
        "- [Google Image search](https://www.google.com/imghp?hl=en) - search for an image. Left-click one of the returned images, then right-click on the full image, and then select \"Copy Image Address\".\n"
      ]
    },
    {
      "cell_type": "markdown",
      "metadata": {
        "id": "7vT11GJ-6qjO"
      },
      "source": [
        "## Example code\n",
        "\n",
        "The code below illustrates how to use OpenCV to filter images by applying the cross-correlation operator. Try to reproduce the code in the cell below; you can use this sample code as a reference to implement the exercises that follow in this problem set.\n",
        "\n",
        "```python\n",
        "\n",
        "# load the input image and convert it to grayscale\n",
        "# - use the io.imread method from skimage package to read an image from url.\n",
        "# - use cv form opencv package to change the the image to grayscale.\n",
        "\n",
        "url = \"https://placekitten.com/255/256\"\n",
        "image = io.imread(url)\n",
        "gray = cv.cvtColor(image, cv.COLOR_BGR2GRAY)\n",
        "\n",
        "#\n",
        "# Define the kernel to use:  \n",
        "#\n",
        "kernel_choice = \"box\"\n",
        "\n",
        "if kernel_choice == \"box\":\n",
        "  # Box filter - size 9\n",
        "  kernel = np.ones((9,9),np.float32)/81\n",
        "elif kernel_choice ==\"gauss\":\n",
        "  # Gaussian filter - kernel size 5, sigma 5\n",
        "  kernel = cv.getGaussianKernel(ksize=5,sigma=5)\n",
        "\n",
        "#\n",
        "# Use cv.filter2D from the openCV package - applies cross-correlation with a given kernel\n",
        "#\n",
        "\n",
        "# apply filter to the grayscale imager.\n",
        "gray_conv = cv.filter2D(gray, -1, kernel)\n",
        "\n",
        "# apply filter to the colored image.\n",
        "image_conv = cv.filter2D(image, -1, kernel)\n",
        "\n",
        "#\n",
        "# Display the images.\n",
        "#\n",
        "\n",
        "plt.figure(figsize=(100,100))\n",
        "# show the grayscale image.\n",
        "plt.subplot(2,2,1)\n",
        "plt.imshow(image)\n",
        "plt.xticks([]), plt.yticks([]), plt.title('Original Colored')\n",
        "\n",
        "plt.subplot(2,2,2)\n",
        "plt.imshow(image_conv)\n",
        "plt.xticks([]), plt.yticks([]), plt.title('Averaged colored')\n",
        "\n",
        "# show the grayscale image.\n",
        "plt.subplot(2,2,3)\n",
        "plt.imshow(gray, cmap='gray')\n",
        "plt.xticks([]), plt.yticks([]), plt.title('Original Gratscake')\n",
        "plt.subplot(2,2,4)\n",
        "plt.imshow(gray_conv, cmap='gray')\n",
        "plt.xticks([]), plt.yticks([]), plt.title('Average Grayscale')\n",
        "\n",
        "```\n",
        "\n"
      ]
    },
    {
      "cell_type": "code",
      "execution_count": null,
      "metadata": {
        "colab": {
          "base_uri": "https://localhost:8080/",
          "height": 1000
        },
        "id": "cQiQl-qf6Qog",
        "outputId": "800e87a7-06d2-41f1-e99a-3d261da0780a"
      },
      "outputs": [],
      "source": [
        "# TODO: Use this cell to reporduce the code above.\n",
        "# - Try to use different images from the one provided.\n",
        "# - Try to change the size, and the standard sigma for the kernel.\n",
        "\n",
        "# load the input image and convert it to grayscale\n",
        "# - use the io.imread method from skimage package to read an image from url.\n",
        "# - use cv form opencv package to change the the image to grayscale.\n",
        "\n",
        "url = \"https://media.licdn.com/dms/image/C4D2DAQEMosc8jtR0vw/profile-treasury-image-shrink_1280_1280/0/1618509105583?e=1707307200&v=beta&t=akcVurKLDJx6hAio6TDCYvPzfbYXdEdFVrChHqrgosQ\"\n",
        "image = io.imread(url)\n",
        "gray = cv.cvtColor(image, cv.COLOR_BGR2GRAY)\n",
        "\n",
        "#\n",
        "# Define the kernel to use:\n",
        "#\n",
        "kernel_choice = \"box\"\n",
        "\n",
        "if kernel_choice == \"box\":\n",
        "  # Box filter - size 9\n",
        "  kernel = np.ones((9,9),np.float32)/81\n",
        "elif kernel_choice ==\"gauss\":\n",
        "  # Gaussian filter - kernel size 5, sigma 5\n",
        "  kernel = cv.getGaussianKernel(ksize=4,sigma=4)\n",
        "\n",
        "#\n",
        "# Use cv.filter2D from the openCV package - applies cross-correlation with a given kernel\n",
        "#\n",
        "\n",
        "# apply filter to the grayscale imager.\n",
        "gray_conv = cv.filter2D(gray, -1, kernel)\n",
        "\n",
        "# apply filter to the colored image.\n",
        "image_conv = cv.filter2D(image, -1, kernel)\n",
        "\n",
        "#\n",
        "# Display the images.\n",
        "#\n",
        "\n",
        "plt.figure(figsize=(50,50))\n",
        "# show the grayscale image.\n",
        "plt.subplot(2,2,1)\n",
        "plt.imshow(image)\n",
        "plt.xticks([]), plt.yticks([]), plt.title('Original Colored')\n",
        "\n",
        "plt.subplot(2,2,2)\n",
        "plt.imshow(image_conv)\n",
        "plt.xticks([]), plt.yticks([]), plt.title('Averaged colored')\n",
        "\n",
        "# show the grayscale image.\n",
        "plt.subplot(2,2,3)\n",
        "plt.imshow(gray, cmap='gray')\n",
        "plt.xticks([]), plt.yticks([]), plt.title('Original Gratscake')\n",
        "plt.subplot(2,2,4)\n",
        "plt.imshow(gray_conv, cmap='gray')\n",
        "plt.xticks([]), plt.yticks([]), plt.title('Average Grayscale')\n"
      ]
    },
    {
      "cell_type": "markdown",
      "metadata": {
        "id": "TzEpGFRR7qZ5"
      },
      "source": [
        "## Exercise 02: Generating Noisy images.\n",
        "\n",
        "**Task 2.1**. Implement a function called `addGaussianNoise(img,sigma)` that takes as an input argument an image (img) and a noise level `sigma`, and return a noisy version of the image by adding gaussian noise.\n",
        "\n",
        "\n",
        "**Task 2.2**. Implement a function called `addSaltAndPepperNoise(img,noise_level)` that takes as an input argument an image (img) and a noise level `noise_level`, and return a noisy version of the image by adding salt and pepper noise. The noise_level would be a number between 0..1, which denotes the probability a pixel is converted to a noisy pixel.\n",
        "\n",
        "**Task 2.3**. Implement a function called `addImpulseNoise(img,noise_level)` that takes as an input argument an image (img) and a noise level `noise_level`, and return a noisy version of the image by adding salt and pepper noise. The noise_level would be a number between 0..1, which denotes the probability a pixel is converted to a noisy pixel.\n"
      ]
    },
    {
      "cell_type": "code",
      "execution_count": null,
      "metadata": {
        "colab": {
          "base_uri": "https://localhost:8080/",
          "height": 309
        },
        "id": "DwjyOd-j7e6L",
        "outputId": "b0fedc78-93ba-4d33-ebeb-686f86a42f76"
      },
      "outputs": [],
      "source": [
        "def addGaussianNoise(img, sigma):\n",
        "\n",
        "    gaussian_noise = np.random.normal(0, sigma, img.shape)\n",
        "\n",
        "\n",
        "    noisy_img = img + gaussian_noise\n",
        "\n",
        "\n",
        "    noisy_img_clipped = np.clip(noisy_img, 0, 255)\n",
        "\n",
        "\n",
        "    return noisy_img_clipped.astype(np.uint8)\n",
        "\n",
        "\n",
        "url = \"https://placekitten.com/255/256\"\n",
        "img = io.imread(url)\n",
        "#gray = cv.cvtColor(image, cv.COLOR_BGR2GRAY)\n",
        "noisy_img = addGaussianNoise(img, 20)\n",
        "\n",
        "#plt.figure(figsize=(10, 5))\n",
        "\n",
        "plt.subplot(1, 2, 1)\n",
        "plt.title(\"Original Image\")\n",
        "plt.imshow(img)\n",
        "\n",
        "plt.subplot(1, 2, 2)\n",
        "plt.title(\"Image with Gaussian Noise\")\n",
        "plt.imshow(noisy_img)\n",
        "\n",
        "plt.show()\n",
        "\n",
        "\n",
        "\n",
        "\n",
        "\n"
      ]
    },
    {
      "cell_type": "code",
      "execution_count": null,
      "metadata": {
        "colab": {
          "base_uri": "https://localhost:8080/",
          "height": 309
        },
        "id": "XymjkJOt8IqQ",
        "outputId": "febde844-7bb5-4150-defd-e70914cf7cdf"
      },
      "outputs": [],
      "source": [
        "# Implement Task 2.2 here\n",
        "\n",
        "def addSaltAndPepperNoise(img, noise_level):\n",
        "    rnd = np.random.rand(img.shape[0], img.shape[1])\n",
        "    noisy_img = np.copy(img)\n",
        "    salt = rnd < (noise_level / 2)\n",
        "    noisy_img[salt] = 255\n",
        "    pepper = rnd < noise_level\n",
        "    noisy_img[pepper] = 0\n",
        "\n",
        "    return noisy_img\n",
        "\n",
        "\n",
        "url = \"https://placekitten.com/255/256\"\n",
        "img = io.imread(url)\n",
        "\n",
        "\n",
        "noisy_img = addSaltAndPepperNoise(img, 0.05)\n",
        "\n",
        "plt.subplot(1, 2, 1)\n",
        "plt.title(\"Original Image\")\n",
        "plt.imshow(img)\n",
        "\n",
        "plt.subplot(1, 2, 2)\n",
        "plt.title(\"Image with Salt And Pepper Noise\")\n",
        "plt.imshow(noisy_img)\n",
        "\n",
        "plt.show()\n"
      ]
    },
    {
      "cell_type": "code",
      "execution_count": null,
      "metadata": {
        "colab": {
          "base_uri": "https://localhost:8080/",
          "height": 309
        },
        "id": "VwZVpoXQ8Ko4",
        "outputId": "733ee189-7019-452e-85a3-c9c663628615"
      },
      "outputs": [],
      "source": [
        "# Implement Task 2.3 here\n",
        "\n",
        "\n",
        "def addImpulseNoise(img, noise_level):\n",
        "    rnd = np.random.rand(img.shape[0], img.shape[1])\n",
        "    noisy_img = np.copy(img)\n",
        "    noisy_img[rnd < (noise_level / 2)] = 255\n",
        "    noisy_img[rnd < noise_level] = 0\n",
        "    return noisy_img\n",
        "\n",
        "\n",
        "url = \"https://placekitten.com/255/256\"\n",
        "img = io.imread(url)\n",
        "\n",
        "\n",
        "noisy_img = addSaltAndPepperNoise(img, 0.05)\n",
        "\n",
        "plt.subplot(1, 2, 1)\n",
        "plt.title(\"Original Image\")\n",
        "plt.imshow(img)\n",
        "\n",
        "plt.subplot(1, 2, 2)\n",
        "plt.title(\"Image with Mpulse Noise\")\n",
        "plt.imshow(noisy_img)\n",
        "\n",
        "plt.show()"
      ]
    },
    {
      "cell_type": "markdown",
      "metadata": {
        "id": "gNTkj-VV8Yx9"
      },
      "source": [
        "## Exercise 3: Apply filtering using OpenCV library.\n",
        "\n",
        "**Task 3.1** Identify an image from the web, load it in python and generate two noisy versions of the input image, one by adding Gaussian noise and a second by salt and pepper noise. Use the functions you implemented in the previous exercise. Display the resulting images.\n",
        "\n",
        "\n",
        "**Task 3.2** Compare the effects of denoising using box filter vs a gaussian filter on each image, as you change the level of noise. Try at least 5 different noise levels for each noise type, and keep the kernel size fixed. For each parameter configuration, display the four images in a single row as follows:\n",
        "\n",
        "  - show the original image, use title \"Original\"\n",
        "  - display the noisy image, in title indicate the noise type and noise level.\n",
        "  - display the filtered images using a gaussian filter.\n",
        "  - display the filtered image using the box filter.\n",
        "  \n",
        "\n",
        "**Task 3.3** Compare the effects of kernel-size and standard-deviation when using a Gaussian filter. Try applying a gaussian filter of kernel sizes 3,5,7,11,and 15 and try different standard deviation Configurations. Use one of the noisy images you generated previously, keep the noise level fixed. For each parameter configuration display the image resulting images in a single row, as follows:\n",
        "  \n",
        "  - Display the noisy image, use title \"Noisy\"\n",
        "  - display the filtered images using a gaussian filter; in title indicate the kernel size, and standard deviations used."
      ]
    },
    {
      "cell_type": "code",
      "execution_count": null,
      "metadata": {
        "colab": {
          "base_uri": "https://localhost:8080/",
          "height": 744
        },
        "id": "cXzP-O6B8MUE",
        "outputId": "622d3331-c8b6-4219-c56c-e44945285d79"
      },
      "outputs": [],
      "source": [
        "# Implement Task 3.1 here.\n",
        "url = \"https://media.licdn.com/dms/image/C4D2DAQEMosc8jtR0vw/profile-treasury-image-shrink_1280_1280/0/1618509105583?e=1707307200&v=beta&t=akcVurKLDJx6hAio6TDCYvPzfbYXdEdFVrChHqrgosQ\"\n",
        "img = io.imread(url)\n",
        "\n",
        "noisy_img1 = addGaussianNoise(img, 20)\n",
        "noisy_img2 = addSaltAndPepperNoise(img, 0.05)\n",
        "\n",
        "plt.figure(figsize=(40,40))\n",
        "\n",
        "plt.subplot(1, 3, 1)\n",
        "plt.title(\"Original Image\")\n",
        "plt.imshow(img)\n",
        "\n",
        "plt.subplot(1, 3, 2)\n",
        "plt.title(\"Image with Gaussian Noise\")\n",
        "plt.imshow(noisy_img1)\n",
        "\n",
        "plt.subplot(1, 3, 3)\n",
        "plt.title(\"Image with Salt And Pepper Noise\")\n",
        "plt.imshow(noisy_img2)\n",
        "\n",
        "\n",
        "plt.show()"
      ]
    },
    {
      "cell_type": "code",
      "execution_count": null,
      "metadata": {
        "colab": {
          "base_uri": "https://localhost:8080/",
          "height": 1000
        },
        "id": "7QmPq-IL-dSD",
        "outputId": "5ac5f390-9528-4a53-f529-cdcdd153b9f4"
      },
      "outputs": [],
      "source": [
        "# Implement Task 3.2here.\n",
        "\n",
        "\n",
        "def applyGaussianFilter(img, kernel_size=5):\n",
        "    return cv.GaussianBlur(img, (kernel_size, kernel_size), 0)\n",
        "\n",
        "def applyBoxFilter(img, kernel_size=5):\n",
        "    return cv.blur(img, (kernel_size, kernel_size))\n",
        "\n",
        "def showImages(img, noise_type, noise_level, kernel_size=5):\n",
        "    if noise_type == 'gaussian': # gaussian noise\n",
        "        noisy_img = addGaussianNoise(img, noise_level)\n",
        "    if noise_type == 'salt and paper': # salt noise\n",
        "        noisy_img = addSaltAndPepperNoise(img, noise_level)\n",
        "\n",
        "    filtered_img_gaussian = applyGaussianFilter(noisy_img, kernel_size)\n",
        "    filtered_img_box = applyBoxFilter(noisy_img, kernel_size)\n",
        "\n",
        "    titles = ['Original', f'Noisy ({noise_type}, level: {noise_level})', 'Gaussian Filter', 'Box Filter']\n",
        "    images = [img, noisy_img, filtered_img_gaussian, filtered_img_box]\n",
        "\n",
        "    plt.figure(figsize=(20, 5))\n",
        "    for i in range(4):\n",
        "        plt.subplot(1, 4, i+1)\n",
        "        plt.imshow(images[i], cmap='gray')\n",
        "        plt.title(titles[i])\n",
        "        plt.xticks([]), plt.yticks([])\n",
        "    plt.show()\n",
        "\n",
        "\n",
        "\n",
        "url = \"https://media.licdn.com/dms/image/C4D2DAQEMosc8jtR0vw/profile-treasury-image-shrink_1280_1280/0/1618509105583?e=1707307200&v=beta&t=akcVurKLDJx6hAio6TDCYvPzfbYXdEdFVrChHqrgosQ\"\n",
        "img = io.imread(url)\n",
        "noise_levels = [5, 10, 15, 20, 25]\n",
        "for noise_level in noise_levels:\n",
        "    showImages(img, 'gaussian', noise_level)\n",
        "    showImages(img, 'salt and paper', noise_level / 255.0)\n"
      ]
    },
    {
      "cell_type": "code",
      "execution_count": null,
      "metadata": {
        "colab": {
          "base_uri": "https://localhost:8080/",
          "height": 170
        },
        "id": "ghkhM5eO-gPg",
        "outputId": "bb0bc20e-26de-40f2-e879-ea993725d863"
      },
      "outputs": [],
      "source": [
        "# Implement Task 3.3 here.\n",
        "\n",
        "def applyGaussianFilter(img, kernel_size, sigma):\n",
        "    return cv.GaussianBlur(img, (kernel_size, kernel_size), sigma)\n",
        "\n",
        "def showImagesWithDifferentGaussianFilters(noisy_img, kernel_sizes, sigmas):\n",
        "    plt.figure(figsize=(20, 5))\n",
        "    plt.subplot(1, len(kernel_sizes) + 1, 1)\n",
        "    plt.imshow(noisy_img, cmap='gray')\n",
        "    plt.title('Noisy')\n",
        "    plt.xticks([]), plt.yticks([])\n",
        "\n",
        "    for i, (kernel_size, sigma) in enumerate(zip(kernel_sizes, sigmas), start=2):\n",
        "        filtered_img = applyGaussianFilter(noisy_img, kernel_size, sigma)\n",
        "        plt.subplot(1, len(kernel_sizes) + 1, i)\n",
        "        plt.imshow(filtered_img, cmap='gray')\n",
        "        plt.title(f'Kernel: {kernel_size}, Sigma: {sigma}')\n",
        "        plt.xticks([]), plt.yticks([])\n",
        "\n",
        "    plt.show()\n",
        "\n",
        "\n",
        "\n",
        "url = \"https://www.lampadia.com/assets/uploads_images/images/4%2819%29.jpg\"\n",
        "img = io.imread(url)\n",
        "kernel_sizes = [3, 5, 7, 11, 15]\n",
        "sigmas = [1, 2, 3, 4, 5]\n",
        "showImagesWithDifferentGaussianFilters(img, kernel_sizes, sigmas)"
      ]
    },
    {
      "cell_type": "markdown",
      "metadata": {
        "id": "gWouo1rl-n54"
      },
      "source": [
        "## Exercse 4: Implementing convolution from scratch\n",
        "\n",
        "Image filtering (or convolution) is a fundamental image processing tool. In this exercise, you will be writing your own function to implement image filtering from scratch. More specifically, you will implement the function `my_filter2D()` which imitates the filter2D function in the OpenCV library.\n",
        "\n",
        "Your filtering algorithm must\n",
        "- (1) support grayscale and color images\n",
        "- (2) support arbitrary shaped filters, as long as both dimensions are odd (e.g. 7x9 filters but not 4x5 filters)\n",
        "- (3) pad the input image with zeros or reflected image content and\n",
        "- (4) return a filtered image which is the same resolution as the input image."
      ]
    },
    {
      "cell_type": "code",
      "execution_count": null,
      "metadata": {
        "id": "AZp1Zv3M-nVs"
      },
      "outputs": [],
      "source": [
        "# Use this cell to implement Exercise 4. Use additional cells if necessary.\n",
        "def my_filter2D(image, kernel, padding_type='zero'):\n",
        "    # Check if kernel dimensions are odd\n",
        "    if kernel.shape[0] % 2 == 0 or kernel.shape[1] % 2 == 0:\n",
        "        raise ValueError(\"Kernel dimensions must be odd\")\n",
        "\n",
        "    # Image dimensions and padding size\n",
        "    img_height, img_width = image.shape[:2]\n",
        "    pad_height, pad_width = kernel.shape[0] // 2, kernel.shape[1] // 2\n",
        "\n",
        "    # Padding\n",
        "    if padding_type == 'zero':\n",
        "        padded_img = np.pad(image, ((pad_height, pad_height), (pad_width, pad_width), (0, 0)), mode='constant')\n",
        "    elif padding_type == 'reflect':\n",
        "        padded_img = np.pad(image, ((pad_height, pad_height), (pad_width, pad_width), (0, 0)), mode='reflect')\n",
        "    else:\n",
        "        raise ValueError(\"Unsupported padding type\")\n",
        "\n",
        "    # Filtered image\n",
        "    filtered_img = np.zeros_like(image)\n",
        "\n",
        "    # Convolution operation\n",
        "    for i in range(img_height):\n",
        "        for j in range(img_width):\n",
        "            for k in range(image.shape[2]): # For each color channel\n",
        "                region = padded_img[i:i+kernel.shape[0], j:j+kernel.shape[1], k]\n",
        "                filtered_img[i, j, k] = np.sum(region * kernel)\n",
        "\n",
        "    return filtered_img\n",
        "\n",
        "\n"
      ]
    },
    {
      "cell_type": "markdown",
      "metadata": {
        "id": "A4-hBSuh_GHd"
      },
      "source": [
        "## Exercse 5: Test your implementation\n",
        "Demonstrate the correctness of your my_filter2D function implementation from Exercise 4, by applying it to different scenarios. Compare the output of your function to the corresponding output from when using cv.imfilter2D method provided by openCV library (i.e. show the two results side by side). In particular demonstrate the your implementation supports:\n",
        "\n",
        "  - support grayscale and color images\n",
        "  - support arbitrary shaped filters,\n",
        "  - supports pad the input image with zeros or reflected image content\n",
        "\n",
        "\n"
      ]
    },
    {
      "cell_type": "code",
      "execution_count": null,
      "metadata": {
        "colab": {
          "base_uri": "https://localhost:8080/",
          "height": 192
        },
        "id": "ubxovuNkHWkd",
        "outputId": "ceef34a2-43a5-4b5a-aab2-a06483a68d89"
      },
      "outputs": [],
      "source": [
        "url = \"https://i.insider.com/63fe6b4a59a49100187da117?width=1000&format=jpeg&auto=webp\"\n",
        "img = io.imread(url)\n",
        "\n",
        "kernel = np.array([[1, 0, -1], [1, 0, -1], [1, 0, -1]]) # Example kernel\n",
        "filtered_img = my_filter2D(img, kernel, 'reflect')\n",
        "cv_2dimg = cv.filter2D(img, -1, kernel)\n",
        "\n",
        "plt.subplot(1, 3, 1)\n",
        "plt.title(\"Original Image\")\n",
        "plt.imshow(img)\n",
        "\n",
        "plt.subplot(1, 3, 2)\n",
        "plt.title(\"Image with My 2D_Filter\")\n",
        "plt.imshow(filtered_img)\n",
        "\n",
        "plt.subplot(1, 3, 3)\n",
        "plt.title(\"Image with CV.2D_Filter\")\n",
        "plt.imshow(cv_2dimg)\n",
        "\n",
        "plt.show()"
      ]
    },
    {
      "cell_type": "markdown",
      "metadata": {
        "id": "76vGnBXZIWoI"
      },
      "source": [
        "\n",
        "Copyright Statement: Copyright © 2020 Christoforou. The materials provided by the instructor of this course, including this notebook, are for the use of the students enrolled in the course. Materials are presented in an educational context for personal use and study and should not be shared, distributed, disseminated or sold in print — or digitally — outside the course without permission. You may not, nor may you knowingly allow others to reproduce or distribute lecture notes, course materials as well as any of their derivatives without the instructor's express written consent."
      ]
    },
    {
      "cell_type": "markdown",
      "metadata": {
        "id": "ffPKUknMHXQX"
      },
      "source": []
    }
  ],
  "metadata": {
    "colab": {
      "provenance": []
    },
    "kernelspec": {
      "display_name": "Python 3",
      "name": "python3"
    },
    "language_info": {
      "codemirror_mode": {
        "name": "ipython",
        "version": 3
      },
      "file_extension": ".py",
      "mimetype": "text/x-python",
      "name": "python",
      "nbconvert_exporter": "python",
      "pygments_lexer": "ipython3",
      "version": "3.11.8"
    }
  },
  "nbformat": 4,
  "nbformat_minor": 0
}
